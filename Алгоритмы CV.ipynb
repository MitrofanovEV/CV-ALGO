{
 "cells": [
  {
   "cell_type": "code",
   "execution_count": 50,
   "id": "dfd4a7f9-9192-4c9c-831f-3f7c10a802bc",
   "metadata": {},
   "outputs": [
    {
     "name": "stderr",
     "output_type": "stream",
     "text": [
      "Clipping input data to the valid range for imshow with RGB data ([0..1] for floats or [0..255] for integers).\n"
     ]
    },
    {
     "data": {
      "text/plain": [
       "<matplotlib.image.AxesImage at 0x2a85f9d7f40>"
      ]
     },
     "execution_count": 50,
     "metadata": {},
     "output_type": "execute_result"
    },
    {
     "data": {
      "image/png": "[encoded data removed]",
      "text/plain": [
       "<Figure size 432x288 with 1 Axes>"
      ]
     },
     "metadata": {
      "needs_background": "light"
     },
     "output_type": "display_data"
    }
   ],
   "source": [
    "size = 16\n",
    "noise = np.random.randn(size,size,3)\n",
    "plt.imshow(noise)"
   ]
  },
  {
   "cell_type": "code",
   "execution_count": 51,
   "id": "ba919bfa-09de-4f9f-841f-b66cbd99f750",
   "metadata": {},
   "outputs": [
    {
     "name": "stderr",
     "output_type": "stream",
     "text": [
      "Clipping input data to the valid range for imshow with RGB data ([0..1] for floats or [0..255] for integers).\n"
     ]
    },
    {
     "data": {
      "text/plain": [
       "<matplotlib.image.AxesImage at 0x2a85fa39940>"
      ]
     },
     "execution_count": 51,
     "metadata": {},
     "output_type": "execute_result"
    },
    {
     "data": {
      "image/png": "[encoded data removed]",
      "text/plain": [
       "<Figure size 432x288 with 1 Axes>"
      ]
     },
     "metadata": {
      "needs_background": "light"
     },
     "output_type": "display_data"
    }
   ],
   "source": [
    "noise = noise / 2. + np.transpose(noise, (1,0,2)) / 2.\n",
    "plt. imshow(noise)"
   ]
  },
  {
   "cell_type": "code",
   "execution_count": 68,
   "id": "ac41439a-88e6-4898-9af2-ccd0c7d25b12",
   "metadata": {},
   "outputs": [
    {
     "name": "stderr",
     "output_type": "stream",
     "text": [
      "Clipping input data to the valid range for imshow with RGB data ([0..1] for floats or [0..255] for integers).\n"
     ]
    },
    {
     "data": {
      "text/plain": [
       "<matplotlib.image.AxesImage at 0x2a861cdd400>"
      ]
     },
     "execution_count": 68,
     "metadata": {},
     "output_type": "execute_result"
    },
    {
     "data": {
      "image/png": "[encoded data removed]",
      "text/plain": [
       "<Figure size 432x288 with 1 Axes>"
      ]
     },
     "metadata": {
      "needs_background": "light"
     },
     "output_type": "display_data"
    }
   ],
   "source": [
    "inv = np.moveaxis(noise,2,0) @ np.linalg.inv(np.moveaxis(noise,2,0))\n",
    "plt.imshow(np.moveaxis(inv,0,2))"
   ]
  },
  {
   "cell_type": "code",
   "execution_count": 64,
   "id": "f2b8a2f0-a44e-478a-bcdc-9d80e309e0f3",
   "metadata": {},
   "outputs": [
    {
     "data": {
      "text/plain": [
       "(3, 16, 16)"
      ]
     },
     "execution_count": 64,
     "metadata": {},
     "output_type": "execute_result"
    }
   ],
   "source": [
    "np.linalg.inv(np.moveaxis(noise,2,0)).shape"
   ]
  },
  {
   "cell_type": "code",
   "execution_count": 66,
   "id": "a66c689e-dfa0-403f-a9c8-3072940067cf",
   "metadata": {},
   "outputs": [
    {
     "data": {
      "text/plain": [
       "(3, 16, 16)"
      ]
     },
     "execution_count": 66,
     "metadata": {},
     "output_type": "execute_result"
    }
   ],
   "source": [
    "np.moveaxis(noise,2,0).shape"
   ]
  },
  {
   "cell_type": "code",
   "execution_count": 69,
   "id": "2ddfe100-0205-41dd-92d4-590371649766",
   "metadata": {},
   "outputs": [
    {
     "data": {
      "text/plain": [
       "(3, 16, 16)"
      ]
     },
     "execution_count": 69,
     "metadata": {},
     "output_type": "execute_result"
    }
   ],
   "source": [
    "inv.shape"
   ]
  },
  {
   "cell_type": "markdown",
   "id": "c9180356-c29d-446d-92b3-abafbb21ada9",
   "metadata": {},
   "source": [
    "<h1> Фильтрация оператором Собела </h1>"
   ]
  },
  {
   "cell_type": "code",
   "execution_count": 6,
   "id": "84e6edac-4fb8-4819-b7b6-ec5a1512a52f",
   "metadata": {},
   "outputs": [],
   "source": [
    "import cv2\n",
    "import numpy as np\n",
    "\n",
    "img_name = 'z.jpg'\n",
    "\n",
    "img = cv2.imread(img_name, cv2.IMREAD_GRAYSCALE)\n",
    "rows, cols = img.shape\n",
    "img = img / 255\n",
    "sobel_horizontal = cv2.Sobel(img, cv2.CV_64F, 1, 0, ksize=3)\n",
    "sobel_vertical = cv2.Sobel(img, cv2.CV_64F, 0, 1, ksize=3)\n",
    "\n",
    "cv2.imshow('Original', img)\n",
    "cv2.imshow('Sobel horizontal', sobel_horizontal)\n",
    "cv2.imshow('Sobel vertical', sobel_vertical)\n",
    "cv2.imshow('norm', abs(sobel_horizontal) + abs(sobel_vertical))\n",
    "cv2.waitKey(0)\n",
    "cv2.destroyAllWindows()"
   ]
  },
  {
   "cell_type": "markdown",
   "id": "6081134c-e6d6-49cc-b2c0-292b1d8d6233",
   "metadata": {},
   "source": [
    "<h1> Градиент изображения с помощью фильтра Гаусса </h1>"
   ]
  },
  {
   "cell_type": "code",
   "execution_count": 1,
   "id": "755ab468-3b5e-4556-ba54-c64869e8d7ee",
   "metadata": {},
   "outputs": [
    {
     "name": "stdout",
     "output_type": "stream",
     "text": [
      "[[ 0.03663128  0.16417     0.27067057  0.16417     0.03663128]\n",
      " [ 0.082085    0.36787944  0.60653066  0.36787944  0.082085  ]\n",
      " [-0.         -0.         -0.         -0.         -0.        ]\n",
      " [-0.082085   -0.36787944 -0.60653066 -0.36787944 -0.082085  ]\n",
      " [-0.03663128 -0.16417    -0.27067057 -0.16417    -0.03663128]]\n",
      "[[ 0.03663128  0.16417     0.27067057  0.16417     0.03663128]\n",
      " [ 0.082085    0.36787944  0.60653066  0.36787944  0.082085  ]\n",
      " [-0.         -0.         -0.         -0.         -0.        ]\n",
      " [-0.082085   -0.36787944 -0.60653066 -0.36787944 -0.082085  ]\n",
      " [-0.03663128 -0.16417    -0.27067057 -0.16417    -0.03663128]] [[ 0.03663128  0.082085   -0.         -0.082085   -0.03663128]\n",
      " [ 0.16417     0.36787944 -0.         -0.36787944 -0.16417   ]\n",
      " [ 0.27067057  0.60653066 -0.         -0.60653066 -0.27067057]\n",
      " [ 0.16417     0.36787944 -0.         -0.36787944 -0.16417   ]\n",
      " [ 0.03663128  0.082085   -0.         -0.082085   -0.03663128]]\n"
     ]
    }
   ],
   "source": [
    "import cv2\n",
    "import numpy as np\n",
    "import math\n",
    "\n",
    "img = cv2.imread('z.jpg', cv2.IMREAD_GRAYSCALE)\n",
    "\n",
    "kernel_x = np.zeros((5,5))\n",
    "for x in range(5):\n",
    "    for y in range(5):\n",
    "        kernel_x[x,y] = -1. * (x-2) * math.exp(-0.5*((x-2)**2+(y-2)**2))\n",
    "print(kernel_x)\n",
    "gx = cv2.filter2D(img,-1,kernel_x)\n",
    "\n",
    "kernel_y = np.zeros((5,5))\n",
    "for x in range(5):\n",
    "    for y in range(5):\n",
    "        kernel_y[x,y] = -1. * (y-2) * math.exp(-0.5*((x-2)**2+(y-2)**2))\n",
    "print(kernel_x, kernel_y)\n",
    "gy = cv2.filter2D(img,-1,kernel_y)\n",
    "\n",
    "cv2.imshow('Original', img)\n",
    "cv2.imshow('gx', gx)\n",
    "cv2.imshow('gy', gy)\n",
    "cv2.imshow('G', abs(gx) + abs(gy))\n",
    "cv2.waitKey(0)\n",
    "cv2.destroyAllWindows()"
   ]
  },
  {
   "cell_type": "markdown",
   "id": "ae5d7900-0b1d-498d-92cb-454735769e5e",
   "metadata": {},
   "source": [
    "<h1> Оператор Кенни </h1>"
   ]
  },
  {
   "cell_type": "code",
   "execution_count": 12,
   "id": "7184e607-d6d9-4be6-a557-3102220cd40c",
   "metadata": {},
   "outputs": [],
   "source": [
    "import cv2\n",
    "import numpy as np\n",
    "import math\n",
    "\n",
    "img = cv2.imread('z.jpg', cv2.IMREAD_GRAYSCALE)\n",
    "edges = cv2.Canny(img,50,100)\n",
    "\n",
    "cv2.imshow('Original', img)\n",
    "cv2.imshow('Canny', edges)\n",
    "\n",
    "cv2.waitKey(0)\n",
    "cv2.destroyAllWindows()"
   ]
  },
  {
   "cell_type": "markdown",
   "id": "5e0dddca-ecbc-4a48-af0d-e6cc7c135fde",
   "metadata": {},
   "source": [
    "<h1> Поиск прямых линий методом Хаффа </h1>"
   ]
  },
  {
   "cell_type": "code",
   "execution_count": 5,
   "id": "7a686648-9d3f-40cf-9901-867972256284",
   "metadata": {},
   "outputs": [],
   "source": [
    "import cv2 as cv\n",
    "import numpy as np\n",
    "import math\n",
    "\n",
    "img = cv.imread('SS.jpg', cv.IMREAD_GRAYSCALE)\n",
    "edges = cv.Canny(img,200,200)\n",
    "\n",
    "cv.imshow('Original', img)\n",
    "cv.imshow('Canny', edges)\n",
    "\n",
    "cdst = cv.cvtColor(img, cv.COLOR_GRAY2BGR)\n",
    "cdstP = np.copy(cdst)\n",
    "\n",
    "lines = cv.HoughLines(edges, 1, np.pi / 180, 150, None, 0, 0)\n",
    "    \n",
    "if lines is not None:\n",
    "    for i in range(0, len(lines)):\n",
    "        rho = lines[i][0][0]\n",
    "        theta = lines[i][0][1]\n",
    "        a = math.cos(theta)\n",
    "        b = math.sin(theta)\n",
    "        x0 = a * rho\n",
    "        y0 = b * rho\n",
    "        pt1 = (int(x0 + 1000*(-b)), int(y0 + 1000*(a)))\n",
    "        pt2 = (int(x0 - 1000*(-b)), int(y0 - 1000*(a)))\n",
    "        cv.line(cdst, pt1, pt2, (0,0,255), 1, cv.LINE_AA)\n",
    "\n",
    "\n",
    "linesP = cv.HoughLinesP(edges, 1, np.pi / 180, 50, None, 50, 10)\n",
    "\n",
    "if linesP is not None:\n",
    "    for i in range(0, len(linesP)):\n",
    "        l = linesP[i][0]\n",
    "        cv.line(cdstP, (l[0], l[1]), (l[2], l[3]), (0,0,255), 1, cv.LINE_AA)\n",
    "\n",
    "cv.imshow(\"Source\", img)\n",
    "cv.imshow(\"Detected Lines (in red) - Standard Hough Line Transform\", cdst)\n",
    "cv.imshow(\"Detected Lines (in red) - Probabilistic Line Transform\", cdstP)\n",
    "\n",
    "cv.waitKey(0)\n",
    "cv.destroyAllWindows()"
   ]
  },
  {
   "cell_type": "markdown",
   "id": "89e0a96d-92e8-4ea7-82b4-c947194ff28f",
   "metadata": {},
   "source": [
    "<h1> Поиск окружностей методом Хаффа </h1>"
   ]
  },
  {
   "cell_type": "code",
   "execution_count": 13,
   "id": "797d07fb-419b-43de-8756-2ff651c4fd4b",
   "metadata": {},
   "outputs": [],
   "source": [
    "import numpy as np\n",
    "import cv2 as cv\n",
    "img = cv.imread('hf_circle.jpg',0)\n",
    "img = cv.medianBlur(img,5)\n",
    "cimg = cv.cvtColor(img,cv.COLOR_GRAY2BGR)\n",
    "circles = cv.HoughCircles(img,cv.HOUGH_GRADIENT,1,250,\n",
    "                            param1=250,param2=30,minRadius=0,maxRadius=0)\n",
    "circles = np.uint16(np.around(circles))\n",
    "for i in circles[0,:]:\n",
    "    # draw the outer circle\n",
    "    cv.circle(cimg,(i[0],i[1]),i[2],(0,255,0),2)\n",
    "    # draw the center of the circle\n",
    "    cv.circle(cimg,(i[0],i[1]),2,(0,0,255),3)\n",
    "cv.imshow('detected circles',cimg)\n",
    "cv.waitKey(0)\n",
    "cv.destroyAllWindows()"
   ]
  },
  {
   "cell_type": "markdown",
   "id": "a1be25e3-2ed0-449e-8445-bd37d4979e42",
   "metadata": {},
   "source": [
    "<h1> Поиск оптического потока алгоритмом Лукаса-Канаде </h1>"
   ]
  },
  {
   "cell_type": "code",
   "execution_count": 3,
   "id": "093acff6-5c4a-4cd5-86bc-2bebcf426410",
   "metadata": {},
   "outputs": [
    {
     "name": "stderr",
     "output_type": "stream",
     "text": [
      "<ipython-input-3-581c5aab02c1>:84: DeprecationWarning: an integer is required (got type numpy.float32).  Implicit conversion to integers using __int__ is deprecated, and may be removed in a future version of Python.\n",
      "  cv.line(frame,(np.float32(j),np.float32(i)), (np.float32(j+V[i,j,0]), np.float32(i + V[i,j,1])), (255,0,0), 2)\n",
      "<ipython-input-3-581c5aab02c1>:92: DeprecationWarning: an integer is required (got type numpy.float32).  Implicit conversion to integers using __int__ is deprecated, and may be removed in a future version of Python.\n",
      "  cv.line(flow,(np.float32(i),np.float32(j)), (np.float32(i+V[i,j,0]), np.float32(j + V[i,j,1])), (255,0,0), 2)\n"
     ]
    }
   ],
   "source": [
    "import numpy as np\n",
    "import cv2 as cv\n",
    "import random\n",
    "from matplotlib import pyplot as plt\n",
    "cap = cv.VideoCapture(\"vtest.avi\")    #(\"test.mp4\")    (\"vtest.avi\") \n",
    "\n",
    "#размеры выходной картинки\n",
    "fheight = 500\n",
    "fwidth = 500\n",
    "#размер сетки для отображения потока\n",
    "grid = 20\n",
    "#размер ядра алгоритма\n",
    "kernel = 10\n",
    "\n",
    "\n",
    "fourcc = cv.VideoWriter_fourcc(*'MJPG')\n",
    "#out = cv.VideoWriter('out.avi',fourcc, 20.0, (fwidth,fheight))\n",
    "if not cap.isOpened():\n",
    "    print(\"Cannot open camera\")\n",
    "    exit()\n",
    "ret, frame = cap.read()\n",
    "#fheight = frame.shape[1]\n",
    "#fwidth = frame.shape[0]\n",
    "\n",
    "kernel_s = (3,3)\n",
    "op_k = cv.getStructuringElement(cv.MORPH_RECT, kernel_s)\n",
    "\n",
    "frame = cv.resize(frame,(fwidth,fheight))\n",
    "#cv.resize()\n",
    "g1 = cv.cvtColor(frame, cv.COLOR_BGR2GRAY)\n",
    "#g1 = cv.morphologyEx(g1, cv.MORPH_OPEN, op_k)\n",
    "#cv.waitKey(1000)\n",
    "x = 0\n",
    "m = 0\n",
    "while True:\n",
    "\n",
    "    ret, frame = cap.read()\n",
    "    \n",
    "    if not ret:\n",
    "        print(\"Can't receive frame (stream end?). Exiting ...\")\n",
    "        break\n",
    "    frame = cv.resize(frame,(fwidth,fheight))\n",
    "    \n",
    "    gray = cv.cvtColor(frame, cv.COLOR_BGR2GRAY)\n",
    "    #gray = cv.morphologyEx(gray, cv.MORPH_OPEN, op_k)\n",
    "    gX = cv.Sobel(gray, ddepth=cv.CV_32F, dx=1, dy=0, ksize=3)\n",
    "    #gX = cv.morphologyEx(gX, cv.MORPH_OPEN, op_k)\n",
    "    gY = cv.Sobel(gray, ddepth=cv.CV_32F, dx=0, dy=1, ksize=3)\n",
    "    #gY = cv.morphologyEx(gY, cv.MORPH_OPEN, op_k)\n",
    "    #gX = cv.convertScaleAbs(gX)\n",
    "    #gY = cv.convertScaleAbs(gY)\n",
    "    gT = g1 - gray\n",
    "    #print(np.min(gX), np.min(gT))\n",
    "    #cv.imshow(\"Sobel/Scharr X\", gX)\n",
    "    V = np.zeros((fwidth,fheight,2), dtype = np.float32)\n",
    "    #GR = \n",
    "    flow = np.zeros((fwidth,fheight))\n",
    "    d = int(kernel / 2)\n",
    "    for i in range(d,fwidth-d):\n",
    "        for j in range(d,fheight-d):\n",
    "            if (i%grid==0 and j%grid==0):\n",
    "                li = i - d\n",
    "                lj = j - d\n",
    "                A = np.zeros((kernel*kernel,2))\n",
    "                b = np.zeros((kernel*kernel))\n",
    "                for k in range(kernel):\n",
    "                    for l in range(kernel):\n",
    "                        A[k*kernel+l,0] = gX[li+k,lj+l]\n",
    "                        A[k*kernel+l,1] = gY[li+k,lj+l]\n",
    "                        b[k*kernel+l] = gT[li+k,lj+l]\n",
    "                #print(A,b)\n",
    "                #print(np.linalg.eig(A.T @ A))\n",
    "                try:\n",
    "                    V[i,j] = -1 * np.linalg.inv(A.T @ A) @ A.T @ b\n",
    "                    w, _ = np.linalg.eig(A.T@A)\n",
    "                    l1 = np.max(w)\n",
    "                    l2 = np.min(w)\n",
    "                    if(np.sum(w<0.001) > 0):\n",
    "                        V[i,j] = (0,0)\n",
    "                    if(l1/l2 > 2):\n",
    "                        V[i,j] = (0,0)\n",
    "                except:\n",
    "                    V[i,j] = (0,0)\n",
    "                cv.line(frame,(np.float32(j),np.float32(i)), (np.float32(j+V[i,j,0]), np.float32(i + V[i,j,1])), (255,0,0), 2)\n",
    "    mask = (V[:,:,0]*V[:,:,0] + V[:,:,1]*V[:,:,1]) > 50\n",
    "    #print(mask.shape)\n",
    "    #print(np.max(V))\n",
    "    frame[mask] = (255,0,0)\n",
    "    for i in range(fwidth):\n",
    "        for j in range(fheight):\n",
    "            if (i%grid==0 and j%grid==0):\n",
    "                cv.line(flow,(np.float32(i),np.float32(j)), (np.float32(i+V[i,j,0]), np.float32(j + V[i,j,1])), (255,0,0), 2)\n",
    "    cv.imshow(\"1\", frame)\n",
    "    x+=1\n",
    "    #cv.waitKey(1000)\n",
    "    g1 = np.array(gray)\n",
    "    #cv.circle(frame,(random.randint(0,1000),random.randint(0,1000)), random.randint(10,100), (0,255,0))\n",
    "    #print(frame.shape)\n",
    "    # if frame is read correctly ret is True\n",
    "    \n",
    "    # Our operations on the frame come hereqqq\n",
    "    #gray = cv.cvtColor(frame, cv.COLOR_BGR2GRAY)\n",
    "    # Display the resultinqg frame\n",
    "    #out.write(frame)\n",
    "    #cv.imshow('frame', gray)\n",
    "    if cv.waitKey(1) == ord('q'):\n",
    "        break\n",
    "\n",
    "# When everything done, release the capture\n",
    "cap.release()\n",
    "cv.destroyAllWindows()"
   ]
  },
  {
   "cell_type": "markdown",
   "id": "93eddc67-8b80-4a6f-91b8-6236dd122802",
   "metadata": {},
   "source": [
    "<h1>Трекинг особых точек встроенным методом Лукаса-Канаде </h1>"
   ]
  },
  {
   "cell_type": "code",
   "execution_count": 36,
   "id": "4d57ed24-5756-4bb2-8919-8773c4a06fbe",
   "metadata": {},
   "outputs": [
    {
     "name": "stderr",
     "output_type": "stream",
     "text": [
      "<ipython-input-36-52fa4211491d>:43: DeprecationWarning: an integer is required (got type numpy.float32).  Implicit conversion to integers using __int__ is deprecated, and may be removed in a future version of Python.\n",
      "  mask = cv2.line(mask, (a,b),(c,d), color[i].tolist(), 2)\n",
      "<ipython-input-36-52fa4211491d>:44: DeprecationWarning: an integer is required (got type numpy.float32).  Implicit conversion to integers using __int__ is deprecated, and may be removed in a future version of Python.\n",
      "  frame = cv2.circle(frame,(a,b),5,color[i].tolist(),-1)\n"
     ]
    },
    {
     "ename": "error",
     "evalue": "OpenCV(4.0.1) C:\\ci\\opencv-suite_1573470242804\\work\\modules\\imgproc\\src\\color.cpp:181: error: (-215:Assertion failed) !_src.empty() in function 'cv::cvtColor'\n",
     "output_type": "error",
     "traceback": [
      "\u001b[1;31m---------------------------------------------------------------------------\u001b[0m",
      "\u001b[1;31merror\u001b[0m                                     Traceback (most recent call last)",
      "\u001b[1;32m<ipython-input-36-52fa4211491d>\u001b[0m in \u001b[0;36m<module>\u001b[1;34m\u001b[0m\n\u001b[0;32m     28\u001b[0m \u001b[1;32mwhile\u001b[0m\u001b[1;33m(\u001b[0m\u001b[1;36m1\u001b[0m\u001b[1;33m)\u001b[0m\u001b[1;33m:\u001b[0m\u001b[1;33m\u001b[0m\u001b[1;33m\u001b[0m\u001b[0m\n\u001b[0;32m     29\u001b[0m     \u001b[0mret\u001b[0m\u001b[1;33m,\u001b[0m\u001b[0mframe\u001b[0m \u001b[1;33m=\u001b[0m \u001b[0mcap\u001b[0m\u001b[1;33m.\u001b[0m\u001b[0mread\u001b[0m\u001b[1;33m(\u001b[0m\u001b[1;33m)\u001b[0m\u001b[1;33m\u001b[0m\u001b[1;33m\u001b[0m\u001b[0m\n\u001b[1;32m---> 30\u001b[1;33m     \u001b[0mframe_gray\u001b[0m \u001b[1;33m=\u001b[0m \u001b[0mcv2\u001b[0m\u001b[1;33m.\u001b[0m\u001b[0mcvtColor\u001b[0m\u001b[1;33m(\u001b[0m\u001b[0mframe\u001b[0m\u001b[1;33m,\u001b[0m \u001b[0mcv2\u001b[0m\u001b[1;33m.\u001b[0m\u001b[0mCOLOR_BGR2GRAY\u001b[0m\u001b[1;33m)\u001b[0m\u001b[1;33m\u001b[0m\u001b[1;33m\u001b[0m\u001b[0m\n\u001b[0m\u001b[0;32m     31\u001b[0m \u001b[1;33m\u001b[0m\u001b[0m\n\u001b[0;32m     32\u001b[0m     \u001b[1;31m# calculate optical flow\u001b[0m\u001b[1;33m\u001b[0m\u001b[1;33m\u001b[0m\u001b[1;33m\u001b[0m\u001b[0m\n",
      "\u001b[1;31merror\u001b[0m: OpenCV(4.0.1) C:\\ci\\opencv-suite_1573470242804\\work\\modules\\imgproc\\src\\color.cpp:181: error: (-215:Assertion failed) !_src.empty() in function 'cv::cvtColor'\n"
     ]
    }
   ],
   "source": [
    "import numpy as np\n",
    "import cv2\n",
    "\n",
    "cap = cv2.VideoCapture(\"test.mp4\")\n",
    "\n",
    "# params for ShiTomasi corner detection\n",
    "feature_params = dict( maxCorners = 100,\n",
    "                       qualityLevel = 0.3,\n",
    "                       minDistance = 7,\n",
    "                       blockSize = 7 )\n",
    "\n",
    "# Parameters for lucas kanade optical flow\n",
    "lk_params = dict( winSize  = (15,15),\n",
    "                  maxLevel = 2,\n",
    "                  criteria = (cv2.TERM_CRITERIA_EPS | cv2.TERM_CRITERIA_COUNT, 10, 0.03))\n",
    "\n",
    "# Create some random colors\n",
    "color = np.random.randint(0,255,(100,3))\n",
    "\n",
    "# Take first frame and find corners in it\n",
    "ret, old_frame = cap.read()\n",
    "old_gray = cv2.cvtColor(old_frame, cv2.COLOR_BGR2GRAY)\n",
    "p0 = cv2.goodFeaturesToTrack(old_gray, mask = None, **feature_params)\n",
    "\n",
    "# Create a mask image for drawing purposes\n",
    "mask = np.zeros_like(old_frame)\n",
    "\n",
    "while(1):\n",
    "    ret,frame = cap.read()\n",
    "    frame_gray = cv2.cvtColor(frame, cv2.COLOR_BGR2GRAY)\n",
    "\n",
    "    # calculate optical flow\n",
    "    p1, st, err = cv2.calcOpticalFlowPyrLK(old_gray, frame_gray, p0, None, **lk_params)\n",
    "\n",
    "    # Select good points\n",
    "    good_new = p1[st==1]\n",
    "    good_old = p0[st==1]\n",
    "\n",
    "    # draw the tracks\n",
    "    for i,(new,old) in enumerate(zip(good_new,good_old)):\n",
    "        a,b = new.ravel()\n",
    "        c,d = old.ravel()\n",
    "        mask = cv2.line(mask, (a,b),(c,d), color[i].tolist(), 2)\n",
    "        frame = cv2.circle(frame,(a,b),5,color[i].tolist(),-1)\n",
    "    img = cv2.add(frame,mask)\n",
    "\n",
    "    cv2.imshow('frame',img)\n",
    "    k = cv2.waitKey(30) & 0xff\n",
    "    if k == 27:\n",
    "        break\n",
    "\n",
    "    # Now update the previous frame and previous points\n",
    "    old_gray = frame_gray.copy()\n",
    "    p0 = good_new.reshape(-1,1,2)\n",
    "    if cv2.waitKey(1) == ord('q'):\n",
    "        break\n",
    "\n",
    "cv2.destroyAllWindows()\n",
    "cap.release()"
   ]
  },
  {
   "cell_type": "markdown",
   "id": "765978f1-9b1d-49c8-bacd-41f0f019227d",
   "metadata": {},
   "source": [
    "<h1> Встроенный метод Лукаса-Канаде для оптического потока </h1>"
   ]
  },
  {
   "cell_type": "code",
   "execution_count": null,
   "id": "3248c70f-44ab-4397-91b0-0ad37acf2a92",
   "metadata": {},
   "outputs": [],
   "source": [
    "import numpy as np\n",
    "import cv2\n",
    "import random\n",
    "from matplotlib import pyplot as plt\n",
    "cap = cv2.VideoCapture(0)\n",
    "\n",
    "method = cv2.optflow.calcOpticalFlowSparseToDense\n",
    "#frames = dense_optical_flow(method, video_path, save, to_gray=True)\n",
    "ret, old_frame = cap.read()\n",
    "old_frame = cv2.cvtColor(old_frame, cv2.COLOR_BGR2GRAY)\n",
    "while True:\n",
    "    # Read the next frame\n",
    "    ret, new_frame = cap.read()\n",
    "    frame_copy = new_frame\n",
    "    if not ret:\n",
    "        break\n",
    "    # Preprocessing for exact method\n",
    "    hsv = np.zeros_like(new_frame)\n",
    "    new_frame = cv2.cvtColor(new_frame, cv2.COLOR_BGR2GRAY)\n",
    "    # Calculate Optical Flow\n",
    "    \n",
    "    flow = method(old_frame, new_frame, None)\n",
    "    # Encoding: convert the algorithm's output into Polar coordinates\n",
    "    mag, ang = cv2.cartToPolar(flow[..., 0], flow[..., 1])\n",
    "    # Use Hue and Value to encode the Optical Flow\n",
    "    \n",
    "    hsv[..., 1] = 255\n",
    "    hsv[..., 0] = ang * 180 / np.pi / 2\n",
    "    hsv[..., 2] = cv2.normalize(mag, None, 0, 255, cv2.NORM_MINMAX)\n",
    "    # Convert HSV image into BGR for demo\n",
    "    bgr = cv2.cvtColor(hsv, cv2.COLOR_HSV2BGR)\n",
    "    cv2.imshow(\"frame\", frame_copy)\n",
    "    cv2.imshow(\"optical flow\", bgr)\n",
    "    k = cv2.waitKey(25) & 0xFF\n",
    "    if k == 27:\n",
    "        break\n",
    "    # Update the previous frame\n",
    "    old_frame = new_frame\n"
   ]
  },
  {
   "cell_type": "markdown",
   "id": "401146aa-6bdb-4e8f-aa51-a48b50e9de96",
   "metadata": {},
   "source": [
    "<h1> Выделение особых точек детектором Харриса </h1>"
   ]
  },
  {
   "cell_type": "code",
   "execution_count": 4,
   "id": "e12e2b7e-c552-4270-8f0c-bbe80f54d8bb",
   "metadata": {},
   "outputs": [],
   "source": [
    "import cv2\n",
    "import numpy as np\n",
    "\n",
    "filename = 'z.jpg'\n",
    "img = cv2.imread(filename)\n",
    "gray = cv2.cvtColor(img,cv2.COLOR_BGR2GRAY)\n",
    "\n",
    "gray = np.float32(gray)\n",
    "dst = cv2.cornerHarris(gray,2,3,0.04)\n",
    "\n",
    "#result is dilated for marking the corners, not important\n",
    "dst = cv2.dilate(dst,None)\n",
    "\n",
    "# Threshold for an optimal value, it may vary depending on the image.\n",
    "img[dst>0.01*dst.max()]=[0,0,255]\n",
    "\n",
    "cv2.imshow('dst',img)\n",
    "if cv2.waitKey(0) & 0xff == 27:\n",
    "    cv2.destroyAllWindows()"
   ]
  },
  {
   "cell_type": "markdown",
   "id": "503a3325-a85c-45dd-8a11-45a21772959b",
   "metadata": {},
   "source": [
    "<h1> Пирамида Гаусса </h1>"
   ]
  },
  {
   "cell_type": "code",
   "execution_count": 1,
   "id": "fa345501-d63a-4b0e-bcd0-7c5aecc2084c",
   "metadata": {},
   "outputs": [],
   "source": [
    "import cv2\n",
    "import numpy as np\n",
    "from matplotlib import pyplot as plt\n",
    "\n",
    "filename = 'z.jpg'\n",
    "img = cv2.imread(filename)\n",
    "gray = cv2.cvtColor(img,cv2.COLOR_BGR2GRAY)\n",
    "cv2.imshow(\"0\",gray)\n",
    "gray = np.float32(gray)\n",
    "sig = 1.5\n",
    "p = list()\n",
    "prev = np.array(gray)\n",
    "prev = prev / 256.\n",
    "p.append(prev)\n",
    "d = list()\n",
    "for c in range(5):\n",
    "    im = cv2.GaussianBlur(prev, (0,0), sigmaX=sig, sigmaY=sig)\n",
    "    im = np.float32(im)\n",
    "    sig *= 1.5\n",
    "    #cv2.imshow(str(c+1),im)\n",
    "    cv2.imshow(str(c+1),im - prev)\n",
    "    prev = np.array(im)\n",
    "    #d.append(im-prev)\n",
    "    \n",
    "    p.append(prev)\n",
    "\n",
    "while(1):\n",
    "    if cv2.waitKey(1) == ord('q'):\n",
    "        break\n",
    "cv2.destroyAllWindows()"
   ]
  },
  {
   "cell_type": "markdown",
   "id": "880d0e65-64c2-4259-a6ca-c2cf7a0d07c3",
   "metadata": {},
   "source": [
    "<h1> детектор SIFT </h1>"
   ]
  },
  {
   "cell_type": "code",
   "execution_count": 9,
   "id": "beb16613-978b-4272-b21e-3da12c9c6ea3",
   "metadata": {},
   "outputs": [
    {
     "ename": "error",
     "evalue": "OpenCV(4.0.1) C:\\ci\\opencv-suite_1573470242804\\work\\opencv_contrib-4.0.1\\modules\\xfeatures2d\\src\\sift.cpp:1207: error: (-213:The function/feature is not implemented) This algorithm is patented and is excluded in this configuration; Set OPENCV_ENABLE_NONFREE CMake option and rebuild the library in function 'cv::xfeatures2d::SIFT::create'\n",
     "output_type": "error",
     "traceback": [
      "\u001b[1;31m---------------------------------------------------------------------------\u001b[0m",
      "\u001b[1;31merror\u001b[0m                                     Traceback (most recent call last)",
      "\u001b[1;32m<ipython-input-9-6f1ad8e918bc>\u001b[0m in \u001b[0;36m<module>\u001b[1;34m\u001b[0m\n\u001b[0;32m      5\u001b[0m \u001b[0mgray\u001b[0m\u001b[1;33m=\u001b[0m \u001b[0mcv2\u001b[0m\u001b[1;33m.\u001b[0m\u001b[0mcvtColor\u001b[0m\u001b[1;33m(\u001b[0m\u001b[0mimg\u001b[0m\u001b[1;33m,\u001b[0m\u001b[0mcv2\u001b[0m\u001b[1;33m.\u001b[0m\u001b[0mCOLOR_BGR2GRAY\u001b[0m\u001b[1;33m)\u001b[0m\u001b[1;33m\u001b[0m\u001b[1;33m\u001b[0m\u001b[0m\n\u001b[0;32m      6\u001b[0m \u001b[1;33m\u001b[0m\u001b[0m\n\u001b[1;32m----> 7\u001b[1;33m \u001b[0msift\u001b[0m \u001b[1;33m=\u001b[0m \u001b[0mcv2\u001b[0m\u001b[1;33m.\u001b[0m\u001b[0mxfeatures2d\u001b[0m\u001b[1;33m.\u001b[0m\u001b[0mSIFT_create\u001b[0m\u001b[1;33m(\u001b[0m\u001b[1;33m)\u001b[0m\u001b[1;33m\u001b[0m\u001b[1;33m\u001b[0m\u001b[0m\n\u001b[0m\u001b[0;32m      8\u001b[0m \u001b[0mkeypoints_1\u001b[0m\u001b[1;33m,\u001b[0m \u001b[0mdescriptors_1\u001b[0m \u001b[1;33m=\u001b[0m \u001b[0msift\u001b[0m\u001b[1;33m.\u001b[0m\u001b[0mdetectAndCompute\u001b[0m\u001b[1;33m(\u001b[0m\u001b[0mimg\u001b[0m\u001b[1;33m,\u001b[0m\u001b[1;32mNone\u001b[0m\u001b[1;33m)\u001b[0m\u001b[1;33m\u001b[0m\u001b[1;33m\u001b[0m\u001b[0m\n\u001b[0;32m      9\u001b[0m \u001b[1;33m\u001b[0m\u001b[0m\n",
      "\u001b[1;31merror\u001b[0m: OpenCV(4.0.1) C:\\ci\\opencv-suite_1573470242804\\work\\opencv_contrib-4.0.1\\modules\\xfeatures2d\\src\\sift.cpp:1207: error: (-213:The function/feature is not implemented) This algorithm is patented and is excluded in this configuration; Set OPENCV_ENABLE_NONFREE CMake option and rebuild the library in function 'cv::xfeatures2d::SIFT::create'\n"
     ]
    }
   ],
   "source": [
    "import cv2\n",
    "import numpy as np\n",
    "\n",
    "img = cv2.imread('z.jpg')\n",
    "gray= cv2.cvtColor(img,cv2.COLOR_BGR2GRAY)\n",
    "\n",
    "sift = cv2.xfeatures2d.SIFT_create()\n",
    "keypoints_1, descriptors_1 = sift.detectAndCompute(img,None)\n",
    "\n",
    "img_1 = cv2.drawKeypoints(gray,keypoints_1,img)\n",
    "\n",
    "\n",
    "cv2.imshow('1',img)\n",
    "while(1):\n",
    "    if cv2.waitKey(1) == ord('q'):\n",
    "        break\n",
    "cv2.destroyAllWindows()"
   ]
  },
  {
   "cell_type": "code",
   "execution_count": 2,
   "id": "079b284d-e718-4708-8f5f-1a96a1caf6dd",
   "metadata": {},
   "outputs": [
    {
     "name": "stdout",
     "output_type": "stream",
     "text": [
      "(687.0, 75.0) (549, 976)\n",
      "(687.0, 3.0) (549, 976)\n"
     ]
    },
    {
     "name": "stderr",
     "output_type": "stream",
     "text": [
      "<ipython-input-2-7fba93d43b97>:34: UserWarning: Attempting to set identical bottom == top == -0.5 results in singular transformations; automatically expanding.\n",
      "  plt.imshow(mas)\n"
     ]
    },
    {
     "ename": "NameError",
     "evalue": "name 'queryDes' is not defined",
     "output_type": "error",
     "traceback": [
      "\u001b[1;31m---------------------------------------------------------------------------\u001b[0m",
      "\u001b[1;31mNameError\u001b[0m                                 Traceback (most recent call last)",
      "\u001b[1;32m<ipython-input-2-7fba93d43b97>\u001b[0m in \u001b[0;36m<module>\u001b[1;34m\u001b[0m\n\u001b[0;32m     34\u001b[0m \u001b[0mplt\u001b[0m\u001b[1;33m.\u001b[0m\u001b[0mimshow\u001b[0m\u001b[1;33m(\u001b[0m\u001b[0mmas\u001b[0m\u001b[1;33m)\u001b[0m\u001b[1;33m\u001b[0m\u001b[1;33m\u001b[0m\u001b[0m\n\u001b[0;32m     35\u001b[0m \u001b[0mmatcher\u001b[0m \u001b[1;33m=\u001b[0m \u001b[0mcv2\u001b[0m\u001b[1;33m.\u001b[0m\u001b[0mBFMatcher\u001b[0m\u001b[1;33m(\u001b[0m\u001b[0mcv2\u001b[0m\u001b[1;33m.\u001b[0m\u001b[0mNORM_HAMMING\u001b[0m\u001b[1;33m,\u001b[0m \u001b[0mcrossCheck\u001b[0m\u001b[1;33m=\u001b[0m\u001b[1;32mTrue\u001b[0m\u001b[1;33m)\u001b[0m\u001b[1;33m\u001b[0m\u001b[1;33m\u001b[0m\u001b[0m\n\u001b[1;32m---> 36\u001b[1;33m \u001b[0mmatches\u001b[0m \u001b[1;33m=\u001b[0m \u001b[0mmatcher\u001b[0m\u001b[1;33m.\u001b[0m\u001b[0mmatch\u001b[0m\u001b[1;33m(\u001b[0m\u001b[0mqueryDes\u001b[0m\u001b[1;33m,\u001b[0m \u001b[0mtrainDes\u001b[0m\u001b[1;33m)\u001b[0m\u001b[1;33m\u001b[0m\u001b[1;33m\u001b[0m\u001b[0m\n\u001b[0m\u001b[0;32m     37\u001b[0m \u001b[0mmatches\u001b[0m \u001b[1;33m=\u001b[0m \u001b[0msorted\u001b[0m\u001b[1;33m(\u001b[0m\u001b[0mmatches\u001b[0m\u001b[1;33m,\u001b[0m \u001b[0mkey\u001b[0m\u001b[1;33m=\u001b[0m\u001b[1;32mlambda\u001b[0m \u001b[0mx\u001b[0m\u001b[1;33m:\u001b[0m \u001b[0mx\u001b[0m\u001b[1;33m.\u001b[0m\u001b[0mdistance\u001b[0m\u001b[1;33m)\u001b[0m\u001b[1;33m\u001b[0m\u001b[1;33m\u001b[0m\u001b[0m\n\u001b[0;32m     38\u001b[0m \u001b[1;33m\u001b[0m\u001b[0m\n",
      "\u001b[1;31mNameError\u001b[0m: name 'queryDes' is not defined"
     ]
    },
    {
     "data": {
      "image/png": "[encoded data removed]",
      "text/plain": [
       "<Figure size 432x288 with 1 Axes>"
      ]
     },
     "metadata": {
      "needs_background": "light"
     },
     "output_type": "display_data"
    }
   ],
   "source": [
    "import numpy as np\n",
    "import cv2\n",
    "from matplotlib import pyplot as plt\n",
    "\n",
    "img = cv2.imread('z.jpg',0)\n",
    "# Initiate FAST object with default values\n",
    "fast = cv2.FastFeatureDetector_create(threshold=25)\n",
    "(h, w) = img.shape[:2]\n",
    "(cX, cY) = (w // 2, h // 2) \n",
    "#cv2.imshow('1',img)\n",
    "# find and draw the keypoints\n",
    "M = cv2.getRotationMatrix2D((cX, cY), 90, 1.0)\n",
    "#img = cv2.warpAffine(img, M, (w, h))\n",
    "kp = fast.detect(img,None)\n",
    "pt = kp[1].pt\n",
    "mas = img[int(pt[1])-4:int(pt[1])+4,int(pt[0])-4:int(pt[0])+4]\n",
    "print(pt, img.shape)\n",
    "img3 = cv2.drawKeypoints(img, kp, outImage = None, color=(255,0,0))\n",
    "\n",
    "fast = cv2.FastFeatureDetector_create(threshold=25)\n",
    "(h, w) = img.shape[:2]\n",
    "(cX, cY) = (w // 2, h // 2) \n",
    "#cv2.imshow('1',img)\n",
    "# find and draw the keypoints\n",
    "M = cv2.getRotationMatrix2D((cX, cY), 90, 1.0)\n",
    "img = cv2.warpAffine(img, M, (w, h))\n",
    "kp = fast.detect(img,None)\n",
    "pt = kp[1].pt\n",
    "mas = img[int(pt[1])-4:int(pt[1])+4,int(pt[0])-4:int(pt[0])+4]\n",
    "print(pt, img.shape)\n",
    "img2 = cv2.drawKeypoints(img, kp, outImage = None, color=(255,0,0))\n",
    "\n",
    "cv2.imshow('2',img2)\n",
    "plt.imshow(mas)\n",
    "matcher = cv2.BFMatcher(cv2.NORM_HAMMING, crossCheck=True)\n",
    "matches = matcher.match(queryDes, trainDes)\n",
    "matches = sorted(matches, key=lambda x: x.distance)\n",
    "\n",
    "final_img = cv2.drawMatches(query_img, queryKP,\n",
    "original_img, trainKP, matches[:20], None)\n",
    "\n",
    "final_img = cv2.resize(final_img, (1000, 650))\n",
    "\n",
    "cv2.imshow(\"Matches\", final_img)\n",
    "print(1)й\n",
    "while(1):\n",
    "    if cv2.waitKey(1) == ord('q'):\n",
    "        break\n",
    "cv2.destroyAllWindows()"
   ]
  },
  {
   "cell_type": "markdown",
   "id": "09f1ae7d-0708-4976-8eca-3fa651e8d4ac",
   "metadata": {},
   "source": [
    "<h1> Сопоставление точек обычным KNN </h1>"
   ]
  },
  {
   "cell_type": "code",
   "execution_count": 3,
   "id": "74148bd1-2a8e-4d56-9a1b-14ec5d9868a2",
   "metadata": {},
   "outputs": [],
   "source": [
    "query_img = cv2.imread('et.jpg')\n",
    "#query_img = cv2.resize(query_img,(200,200))\n",
    "original_img = cv2.imread('ef.jpg') \n",
    "query_img_bw = cv2.cvtColor(query_img, cv2.IMREAD_GRAYSCALE)\n",
    "original_img_bw = cv2.cvtColor(original_img, cv2.IMREAD_GRAYSCALE)\n",
    "\n",
    "orb = cv2.ORB_create()\n",
    "queryKP, queryDes = orb.detectAndCompute(query_img_bw,None)\n",
    "trainKP, trainDes = orb.detectAndCompute(original_img_bw,None)\n",
    "\n",
    "matcher = cv2.BFMatcher()\n",
    "matches = matcher.radiusMatch(np.asarray(queryDes,np.float32),np.asarray(trainDes,np.float32),260)\n",
    "#match(queryDes,trainDes)\n",
    "#matches = sorted(matches, key = lambda x:x.distance)\n",
    "m = list()\n",
    "\n",
    "final_img = cv2.drawMatchesKnn(query_img, queryKP, \n",
    "                            original_img, trainKP, matches[:20],None)\n",
    "\n",
    "cv2.imshow(\"Matches\", final_img)\n",
    "cv2.waitKey()\n",
    "cv2.destroyAllWindows()"
   ]
  },
  {
   "cell_type": "markdown",
   "id": "3bdebc9f-914e-4bac-92f8-e67a0f4f1d03",
   "metadata": {},
   "source": [
    "<h1> Сопоставление точек KNN с улучшением </h1>"
   ]
  },
  {
   "cell_type": "code",
   "execution_count": 4,
   "id": "eb13d749-92c2-4641-95ab-aebabfb30ecf",
   "metadata": {},
   "outputs": [],
   "source": [
    "import cv2\n",
    "import numpy as np\n",
    "#query_img = cv2.imread('et.jpg')\n",
    "#query_img = cv2.flip(query_img, 1)\n",
    "#original_img = cv2.imread('ef.jpg') \n",
    "\n",
    "query_img = cv2.imread(cv2.samples.findFile('box.png'), cv2.IMREAD_GRAYSCALE)\n",
    "original_img = cv2.imread(cv2.samples.findFile('box_in_scene.png'), cv2.IMREAD_GRAYSCALE)\n",
    "#query_img = cv2.resize(query_img,(200,200))\n",
    "img = np.array(query_img)\n",
    "query_img_bw = cv2.cvtColor(query_img, cv2.IMREAD_GRAYSCALE)\n",
    "original_img_bw = cv2.cvtColor(original_img, cv2.IMREAD_GRAYSCALE)\n",
    "\n",
    "orb = cv2.ORB_create(nfeatures=100, scaleFactor=1.1)\n",
    "queryKP, queryDes = orb.detectAndCompute(query_img_bw,None)\n",
    "trainKP, trainDes = orb.detectAndCompute(original_img_bw,None)\n",
    "\n",
    "matcher = cv2.BFMatcher()\n",
    "matches = matcher.knnMatch(np.asarray(queryDes,np.float32),np.asarray(trainDes,np.float32),10)\n",
    "#match(queryDes,trainDes)\n",
    "#matches = sorted(matches, key = lambda x:x.distance)\n",
    "m = list()\n",
    "thr = 100\n",
    "f = True\n",
    "for l in matches:\n",
    "    nn = list()\n",
    "    for i in range(len(l)):\n",
    "        nn.append(np.linalg.norm(queryDes[l[i].queryIdx]-trainDes[l[i].trainIdx]))\n",
    "    \n",
    "    #n1 = np.linalg.norm(queryDes[l[0].queryIdx]-trainDes[l[0].trainIdx])\n",
    "    #n2 = np.linalg.norm(queryDes[l[1].queryIdx]-trainDes[l[1].trainIdx])\n",
    "    n1, n2 = np.sort(nn)[:2]\n",
    "    if (abs(n1-n2) < thr):\n",
    "        continue\n",
    "    #if (f and len(m) == 2):\n",
    "    #    f = False\n",
    "    #    continue\n",
    "    m.append(l[np.argmin(np.array(nn))])\n",
    "    \"\"\"\n",
    "    if (n1 > n2):\n",
    "        m.append(l[1])\n",
    "    else:\n",
    "        m.append(l[0])\n",
    "    \"\"\"\n",
    "#m = m[0:3]\n",
    "final_img = cv2.drawMatches(query_img, queryKP, \n",
    "                            original_img, trainKP, m,None)\n",
    "#cv2.imshow(\"1\", query_img)\n",
    "cv2.imshow(\"Matches\", final_img)\n",
    "cv2.waitKey()\n",
    "cv2.destroyAllWindows()"
   ]
  },
  {
   "cell_type": "code",
   "execution_count": 67,
   "id": "d734ce97-c78d-4dbd-812b-06981fc9a2c4",
   "metadata": {},
   "outputs": [
    {
     "data": {
      "text/plain": [
       "1038.4613618233468"
      ]
     },
     "execution_count": 67,
     "metadata": {},
     "output_type": "execute_result"
    }
   ],
   "source": [
    "np.linalg.norm(queryDes[matches[0][0].queryIdx]-trainDes[matches[0][0].trainIdx])"
   ]
  },
  {
   "cell_type": "code",
   "execution_count": 68,
   "id": "a8fb4b42-c661-45db-9963-a6f87979d1c9",
   "metadata": {},
   "outputs": [
    {
     "data": {
      "text/plain": [
       "10"
      ]
     },
     "execution_count": 68,
     "metadata": {},
     "output_type": "execute_result"
    }
   ],
   "source": [
    "len(l)"
   ]
  },
  {
   "cell_type": "code",
   "execution_count": 69,
   "id": "a7b9ac79-65e9-47c0-89ad-6fc9b9142026",
   "metadata": {},
   "outputs": [
    {
     "data": {
      "text/plain": [
       "72.1025390625"
      ]
     },
     "execution_count": 69,
     "metadata": {},
     "output_type": "execute_result"
    }
   ],
   "source": [
    "queryKP[l[2].queryIdx].pt[0]"
   ]
  },
  {
   "cell_type": "code",
   "execution_count": 5,
   "id": "7bb8e20d-fd50-4d62-a6ff-5e2cc9e39a70",
   "metadata": {},
   "outputs": [
    {
     "data": {
      "text/plain": [
       "array([ 9.73581713e-02,  4.95092700e-02,  3.75158509e+01, -5.49355343e-01,\n",
       "       -5.08946064e+00,  1.16934198e+03])"
      ]
     },
     "execution_count": 5,
     "metadata": {},
     "output_type": "execute_result"
    }
   ],
   "source": [
    "m = m[0:3]\n",
    "n = len(m)\n",
    "b = np.zeros((n*2))\n",
    "A = np.zeros((n*2,6))\n",
    "for i in range(n):\n",
    "    b[i] = queryKP[m[i].queryIdx].pt[0]\n",
    "    b[n+i] = queryKP[m[i].queryIdx].pt[1]\n",
    "    A[i,0] = trainKP[m[i].trainIdx].pt[0]\n",
    "    A[i,1] = trainKP[m[i].trainIdx].pt[1]\n",
    "    A[i,2] = 1\n",
    "    A[n+i,3] = trainKP[m[i].trainIdx].pt[0]\n",
    "    A[n+i,4] = trainKP[m[i].trainIdx].pt[1]\n",
    "    A[n+i,5] = 1\n",
    "ans = np.linalg.solve(A,b)\n",
    "ans"
   ]
  },
  {
   "cell_type": "code",
   "execution_count": 6,
   "id": "8d54e008-03b4-40ea-81e7-24135e1fde6b",
   "metadata": {},
   "outputs": [],
   "source": [
    "TR = [[ans[0], ans[1], ans[2]], [ans[3],ans[4],ans[5]], [0,0,1]]\n",
    "TR = TR * 2"
   ]
  },
  {
   "cell_type": "code",
   "execution_count": 7,
   "id": "dee0de77-1c04-428b-a668-793e17aefb12",
   "metadata": {},
   "outputs": [
    {
     "ename": "RuntimeError",
     "evalue": "affine matrix has wrong number of rows",
     "output_type": "error",
     "traceback": [
      "\u001b[1;31m---------------------------------------------------------------------------\u001b[0m",
      "\u001b[1;31mRuntimeError\u001b[0m                              Traceback (most recent call last)",
      "\u001b[1;32m<ipython-input-7-6c7097bf31b1>\u001b[0m in \u001b[0;36m<module>\u001b[1;34m\u001b[0m\n\u001b[0;32m      1\u001b[0m \u001b[1;32mfrom\u001b[0m \u001b[0mscipy\u001b[0m \u001b[1;32mimport\u001b[0m \u001b[0mndimage\u001b[0m \u001b[1;32mas\u001b[0m \u001b[0mndi\u001b[0m\u001b[1;33m\u001b[0m\u001b[1;33m\u001b[0m\u001b[0m\n\u001b[1;32m----> 2\u001b[1;33m \u001b[0mimgw\u001b[0m \u001b[1;33m=\u001b[0m \u001b[0mndi\u001b[0m\u001b[1;33m.\u001b[0m\u001b[0maffine_transform\u001b[0m\u001b[1;33m(\u001b[0m\u001b[0mimg\u001b[0m\u001b[1;33m,\u001b[0m \u001b[0mTR\u001b[0m\u001b[1;33m)\u001b[0m\u001b[1;33m\u001b[0m\u001b[1;33m\u001b[0m\u001b[0m\n\u001b[0m\u001b[0;32m      3\u001b[0m \u001b[0mcv2\u001b[0m\u001b[1;33m.\u001b[0m\u001b[0mimshow\u001b[0m\u001b[1;33m(\u001b[0m\u001b[1;34m\"Matches\"\u001b[0m\u001b[1;33m,\u001b[0m\u001b[0mimgw\u001b[0m\u001b[1;33m)\u001b[0m\u001b[1;33m\u001b[0m\u001b[1;33m\u001b[0m\u001b[0m\n\u001b[0;32m      4\u001b[0m \u001b[0mcv2\u001b[0m\u001b[1;33m.\u001b[0m\u001b[0mwaitKey\u001b[0m\u001b[1;33m(\u001b[0m\u001b[1;33m)\u001b[0m\u001b[1;33m\u001b[0m\u001b[1;33m\u001b[0m\u001b[0m\n\u001b[0;32m      5\u001b[0m \u001b[0mcv2\u001b[0m\u001b[1;33m.\u001b[0m\u001b[0mdestroyAllWindows\u001b[0m\u001b[1;33m(\u001b[0m\u001b[1;33m)\u001b[0m\u001b[1;33m\u001b[0m\u001b[1;33m\u001b[0m\u001b[0m\n",
      "\u001b[1;32m~\\anaconda3\\lib\\site-packages\\scipy\\ndimage\\interpolation.py\u001b[0m in \u001b[0;36maffine_transform\u001b[1;34m(input, matrix, offset, output_shape, output, order, mode, cval, prefilter)\u001b[0m\n\u001b[0;32m    586\u001b[0m         \u001b[0mmatrix\u001b[0m \u001b[1;33m=\u001b[0m \u001b[0mmatrix\u001b[0m\u001b[1;33m[\u001b[0m\u001b[1;33m:\u001b[0m\u001b[0minput\u001b[0m\u001b[1;33m.\u001b[0m\u001b[0mndim\u001b[0m\u001b[1;33m,\u001b[0m \u001b[1;33m:\u001b[0m\u001b[0minput\u001b[0m\u001b[1;33m.\u001b[0m\u001b[0mndim\u001b[0m\u001b[1;33m]\u001b[0m\u001b[1;33m\u001b[0m\u001b[1;33m\u001b[0m\u001b[0m\n\u001b[0;32m    587\u001b[0m     \u001b[1;32mif\u001b[0m \u001b[0mmatrix\u001b[0m\u001b[1;33m.\u001b[0m\u001b[0mshape\u001b[0m\u001b[1;33m[\u001b[0m\u001b[1;36m0\u001b[0m\u001b[1;33m]\u001b[0m \u001b[1;33m!=\u001b[0m \u001b[0minput\u001b[0m\u001b[1;33m.\u001b[0m\u001b[0mndim\u001b[0m\u001b[1;33m:\u001b[0m\u001b[1;33m\u001b[0m\u001b[1;33m\u001b[0m\u001b[0m\n\u001b[1;32m--> 588\u001b[1;33m         \u001b[1;32mraise\u001b[0m \u001b[0mRuntimeError\u001b[0m\u001b[1;33m(\u001b[0m\u001b[1;34m'affine matrix has wrong number of rows'\u001b[0m\u001b[1;33m)\u001b[0m\u001b[1;33m\u001b[0m\u001b[1;33m\u001b[0m\u001b[0m\n\u001b[0m\u001b[0;32m    589\u001b[0m     \u001b[1;32mif\u001b[0m \u001b[0mmatrix\u001b[0m\u001b[1;33m.\u001b[0m\u001b[0mndim\u001b[0m \u001b[1;33m==\u001b[0m \u001b[1;36m2\u001b[0m \u001b[1;32mand\u001b[0m \u001b[0mmatrix\u001b[0m\u001b[1;33m.\u001b[0m\u001b[0mshape\u001b[0m\u001b[1;33m[\u001b[0m\u001b[1;36m1\u001b[0m\u001b[1;33m]\u001b[0m \u001b[1;33m!=\u001b[0m \u001b[0moutput\u001b[0m\u001b[1;33m.\u001b[0m\u001b[0mndim\u001b[0m\u001b[1;33m:\u001b[0m\u001b[1;33m\u001b[0m\u001b[1;33m\u001b[0m\u001b[0m\n\u001b[0;32m    590\u001b[0m         \u001b[1;32mraise\u001b[0m \u001b[0mRuntimeError\u001b[0m\u001b[1;33m(\u001b[0m\u001b[1;34m'affine matrix has wrong number of columns'\u001b[0m\u001b[1;33m)\u001b[0m\u001b[1;33m\u001b[0m\u001b[1;33m\u001b[0m\u001b[0m\n",
      "\u001b[1;31mRuntimeError\u001b[0m: affine matrix has wrong number of rows"
     ]
    }
   ],
   "source": [
    "from scipy import ndimage as ndi\n",
    "imgw = ndi.affine_transform(img, TR)\n",
    "cv2.imshow(\"Matches\",imgw)\n",
    "cv2.waitKey()\n",
    "cv2.destroyAllWindows()"
   ]
  },
  {
   "cell_type": "code",
   "execution_count": 236,
   "id": "23c63cd1-0d19-431e-a7da-4d7e0f8f7c3c",
   "metadata": {},
   "outputs": [],
   "source": [
    "def get_corrected_img(img1, img2):\n",
    "    MIN_MATCHES = 50\n",
    "\n",
    "    orb = cv2.ORB_create(nfeatures=500)\n",
    "    kp1, des1 = orb.detectAndCompute(img1, None)\n",
    "    kp2, des2 = orb.detectAndCompute(img2, None)\n",
    "\n",
    "    index_params = dict(algorithm=6,\n",
    "                        table_number=6,\n",
    "                        key_size=12,\n",
    "                        multi_probe_level=2)\n",
    "    search_params = {}\n",
    "    flann = cv2.FlannBasedMatcher(index_params, search_params)\n",
    "    matches = flann.knnMatch(des1, des2, k=2)\n",
    "\n",
    "    # As per Lowe's ratio test to filter good matches\n",
    "    good_matches = []\n",
    "    for m, n in matches:\n",
    "        if m.distance < 0.75 * n.distance:\n",
    "            good_matches.append(m)\n",
    "\n",
    "    if len(good_matches) > MIN_MATCHES:\n",
    "        src_points = np.float32([kp1[m.queryIdx].pt for m in good_matches]).reshape(-1, 1, 2)\n",
    "        dst_points = np.float32([kp2[m.trainIdx].pt for m in good_matches]).reshape(-1, 1, 2)\n",
    "        m, mask = cv2.findHomography(src_points, dst_points, cv2.RANSAC, 5.0)\n",
    "        corrected_img = cv2.warpPerspective(img1, m, (img2.shape[1], img2.shape[0]))\n",
    "\n",
    "        return corrected_img\n",
    "    return img2\n",
    "img = get_corrected_img(query_img, original_img)\n",
    "cv2.imshow(\"Matches\", img)\n",
    "cv2.waitKey()\n",
    "cv2.destroyAllWindows()"
   ]
  },
  {
   "cell_type": "code",
   "execution_count": null,
   "id": "39f52ece-4f70-4dcf-97ba-103701a3aeb0",
   "metadata": {},
   "outputs": [],
   "source": []
  },
  {
   "cell_type": "code",
   "execution_count": 8,
   "id": "c7827090-5dc4-4974-84cc-cc6e30e328c8",
   "metadata": {},
   "outputs": [],
   "source": [
    "import cv2\n",
    "import numpy as np\n",
    "import math\n",
    "#query_img = cv2.imread('et.jpg')\n",
    "#query_img = cv2.flip(query_img, 1)\n",
    "#original_img = cv2.imread('ef.jpg') \n",
    "\n",
    "query_img = cv2.imread(cv2.samples.findFile('box.png'), cv2.IMREAD_GRAYSCALE)\n",
    "original_img = cv2.imread(cv2.samples.findFile('box_in_scene.png'), cv2.IMREAD_GRAYSCALE)\n",
    "#query_img = cv2.resize(query_img,(200,200))\n",
    "img = np.array(query_img)\n",
    "query_img_bw = cv2.cvtColor(query_img, cv2.IMREAD_GRAYSCALE)\n",
    "original_img_bw = cv2.cvtColor(original_img, cv2.IMREAD_GRAYSCALE)\n",
    "\n",
    "orb = cv2.ORB_create()#nfeatures=10000, scaleFactor=1.1)\n",
    "#orb = cv2.xfeatures2d.SIFT_create()\n",
    "queryKP, queryDes = orb.detectAndCompute(query_img_bw,None)\n",
    "trainKP, trainDes = orb.detectAndCompute(original_img_bw,None)\n",
    "#cv2.xfeatures2d.SURF_create\n",
    "matcher = cv2.BFMatcher()\n",
    "matches = matcher.knnMatch(np.asarray(queryDes,np.float32),np.asarray(trainDes,np.float32),10)\n",
    "#match(queryDes,trainDes)\n",
    "#matches = sorted(matches, key = lambda x:x.distance)\n",
    "m = list()\n",
    "thr = 200\n",
    "f = True\n",
    "for l in matches:\n",
    "    nn = list()\n",
    "    for i in range(len(l)):\n",
    "        nn.append(np.linalg.norm(queryDes[l[i].queryIdx]-trainDes[l[i].trainIdx]))\n",
    "    \n",
    "    #n1 = np.linalg.norm(queryDes[l[0].queryIdx]-trainDes[l[0].trainIdx])\n",
    "    #n2 = np.linalg.norm(queryDes[l[1].queryIdx]-trainDes[l[1].trainIdx])\n",
    "    n1, n2 = np.sort(nn)[:2]\n",
    "    if (abs(n1-n2) < thr):\n",
    "        continue\n",
    "    #if (f and len(m) == 2):\n",
    "    #    f = False\n",
    "    #    continue\n",
    "    m.append(l[np.argmin(nn)])\n",
    "    \"\"\"\n",
    "    if (n1 > n2):\n",
    "        m.append(l[1])\n",
    "    else:\n",
    "        m.append(l[0])\n",
    "    \"\"\"\n",
    "#m = m[0:3]\n",
    "final_img = cv2.drawMatches(query_img, queryKP, \n",
    "                            original_img, trainKP, m,None)\n",
    "#cv2.imshow(\"1\", query_img)\n",
    "cv2.imshow(\"Matches\", final_img)\n",
    "cv2.waitKey()\n",
    "cv2.destroyAllWindows()"
   ]
  },
  {
   "cell_type": "code",
   "execution_count": 9,
   "id": "a4bc832b-9856-4bf6-bcd6-d8eb37cf9f6e",
   "metadata": {},
   "outputs": [
    {
     "name": "stdout",
     "output_type": "stream",
     "text": [
      "[3 2 1]\n",
      "2\n"
     ]
    }
   ],
   "source": [
    "a = np.array([3,2,1])\n",
    "print(a)\n",
    "a1, a2, a3 = np.sort(a)\n",
    "print(a2)"
   ]
  },
  {
   "cell_type": "markdown",
   "id": "e98185dc-b59e-491f-b4cd-892a2831b9d4",
   "metadata": {},
   "source": [
    "<h1> Поиск афинного преобразования </h1>"
   ]
  },
  {
   "cell_type": "code",
   "execution_count": 11,
   "id": "664f1b4f-282d-49bc-a4fe-0d8f670f5d7f",
   "metadata": {},
   "outputs": [
    {
     "name": "stdout",
     "output_type": "stream",
     "text": [
      "(111, 162)\n"
     ]
    }
   ],
   "source": [
    "img1 = cv2.imread(cv2.samples.findFile('box.png'), cv2.IMREAD_GRAYSCALE)\n",
    "scale = 2\n",
    "img1 = cv2.resize(img1,(int(img1.shape[1]/scale), int(img.shape[0]/scale)))\n",
    "print(img1.shape)\n",
    "img2 = cv2.imread(cv2.samples.findFile('box_in_scene.png'), cv2.IMREAD_GRAYSCALE)\n",
    "#img1 = cv2.circle(img1, (139,200), radius=5,color=(0, 0, 255), thickness=-1)\n",
    "cv2.imshow(\"1\",img1)\n",
    "cv2.waitKey()\n",
    "cv2.destroyAllWindows()"
   ]
  },
  {
   "cell_type": "code",
   "execution_count": 108,
   "id": "68d47a87-113e-494d-ae19-12a03c0d4cc0",
   "metadata": {},
   "outputs": [
    {
     "ename": "SyntaxError",
     "evalue": "invalid syntax (<ipython-input-108-d18a6946ab90>, line 1)",
     "output_type": "error",
     "traceback": [
      "\u001b[1;36m  File \u001b[1;32m\"<ipython-input-108-d18a6946ab90>\"\u001b[1;36m, line \u001b[1;32m1\u001b[0m\n\u001b[1;33m    q     t\u001b[0m\n\u001b[1;37m          ^\u001b[0m\n\u001b[1;31mSyntaxError\u001b[0m\u001b[1;31m:\u001b[0m invalid syntax\n"
     ]
    }
   ],
   "source": [
    "  q     t\n",
    "(0,0) (120,162)\n",
    "(324,223) (268,294)\n",
    "(139,200) (165,270)"
   ]
  },
  {
   "cell_type": "code",
   "execution_count": 12,
   "id": "2316f2f5-7b87-4fbc-80aa-52a720b5b60c",
   "metadata": {},
   "outputs": [],
   "source": [
    "#q = np.array([[0,0], [324,223], [139,200]])\n",
    "#t = np.array([[120,162], [268,294], [165,270]])\n",
    "q = np.array([[0,0], [224,324], [200, 140]])\n",
    "t = np.array([[162,120], [294,268], [270,165]])\n",
    "q = q/scale\n",
    "n = 3\n",
    "b = np.zeros((n*2))\n",
    "A = np.zeros((n*2,6))\n",
    "for i in range(n):\n",
    "    b[2*i] = q[i][0]\n",
    "    b[2*i+1] = q[i][1]\n",
    "    A[2*i,0] = t[i][0]\n",
    "    A[2*i,1] = t[i][1]\n",
    "    A[2*i,4] = 1\n",
    "    A[2*i+1,2] = t[i][0]\n",
    "    A[2*i+1,3] = t[i][1]\n",
    "    A[2*i+1,5] = 1\n",
    "    \n",
    "    \"\"\"|\n",
    "    A[i,0] = t[i][0]\n",
    "    A[i,1] = t[i][1]\n",
    "    A[i,2] = 1\n",
    "    A[n+i,3] = t[i][0]\n",
    "    A[n+i,4] = t[i][1]\n",
    "    A[n+i,5] = 1\n",
    "    \"\"\"\n",
    "ans = np.linalg.solve(A,b)\n",
    "#ans =  np.linalg.inv(A) * b\n",
    "TR = np.array([[ans[0], ans[1], -1*ans[4]], [ans[2],ans[3],-1*ans[5]], [0,0,1]])\n",
    "#TR  = TR / scale\n"
   ]
  },
  {
   "cell_type": "code",
   "execution_count": 13,
   "id": "e833b758-4cfb-444e-ad80-49f176d4b848",
   "metadata": {},
   "outputs": [],
   "source": [
    "p = np.zeros((4,2), dtype = np.int32)\n",
    "p[0] = [0,0]\n",
    "p[1] = [0,img1.shape[0]-1]\n",
    "p[3] = [img1.shape[1]-1, 0]\n",
    "p[2] = [img1.shape[1]-1, img1.shape[0]-1]\n",
    "\n",
    "for i in range(4):\n",
    "    p[i] = TR[0:2,0:2] @ p[i] + [TR[0,2], TR[1,2]]\n",
    "p = p.reshape((-1, 1, 2))"
   ]
  },
  {
   "cell_type": "code",
   "execution_count": 14,
   "id": "d62b0739-18a8-416d-9062-4e3860b4a7c0",
   "metadata": {},
   "outputs": [],
   "source": [
    "def perspective_warp(image: np.ndarray, transform: np.ndarray):\n",
    "        h, w = image.shape[:2]\n",
    "        corners_bef = np.float32([[0, 0], [w, 0], [w, h], [0, h]]).reshape(-1, 1, 2)\n",
    "        corners_aft = cv2.perspectiveTransform(corners_bef, transform)\n",
    "        xmin = math.floor(corners_aft[:, 0, 0].min())\n",
    "        ymin = math.floor(corners_aft[:, 0, 1].min())\n",
    "        xmax = math.ceil(corners_aft[:, 0, 0].max())\n",
    "        ymax = math.ceil(corners_aft[:, 0, 1].max())\n",
    "        x_adj = math.floor(xmin - corners_aft[0, 0, 0])\n",
    "        y_adj = math.floor(ymin - corners_aft[0, 0, 1])\n",
    "        translate = np.eye(3)\n",
    "        translate[0, 2] = -xmin\n",
    "        translate[1, 2] = -ymin\n",
    "        corrected_transform = np.matmul(translate, transform)\n",
    "        return cv2.warpPerspective(image, corrected_transform, (math.ceil(xmax - xmin), math.ceil(ymax - ymin))), x_adj, y_adj\n"
   ]
  },
  {
   "cell_type": "code",
   "execution_count": 18,
   "id": "080a9716-4d64-4e84-a23b-2b3bba72a59e",
   "metadata": {},
   "outputs": [],
   "source": [
    "from scipy import ndimage as ndi\n",
    "#imgw = ndi.affine_transform(img1, TR)\n",
    "imgw = cv2.warpPerspective(img1, TR, (img2.shape[1],img2.shape[0]))\n",
    "#imgw = cv2.warpAfine(img1, TR, (img2.shape[1],img2.shape[0]))\n",
    "#imgw = perspective_warp(img1, TR)\n",
    "#print(imgw.shape, img2.shape)\n",
    "#f = np.zeros(img2.shape, dtype = np.uint8)\n",
    "#f[0:imgw.shape[0], 0:imgw.shape[1]] = imgw\n",
    "img2 = cv2.polylines(img2, [p], isClosed=1, color = (0,255,0), thickness=3)\n",
    "numpy_horizontal = np.hstack((imgw, img2))\n",
    "cv2.imshow(\"Matches\",numpy_horizontal)\n",
    "#cv2.imshow(\"Matches\",imgw)\n",
    "cv2.waitKey()\n",
    "cv2.destroyAllWindows()"
   ]
  },
  {
   "cell_type": "code",
   "execution_count": 77,
   "id": "42b5d958-0d9b-4bfe-a70d-c59dfc5164e9",
   "metadata": {},
   "outputs": [
    {
     "name": "stdout",
     "output_type": "stream",
     "text": [
      "[[-4.05929460e-01 -3.54068472e-01  1.62000000e+02]\n",
      " [-3.08716349e-01 -2.79734684e-01  1.20000000e+02]\n",
      " [-3.75964657e-03 -9.45358816e-04  1.00000000e+00]] \n",
      " [[ 1.94344883e+00 -2.19832736e-01  2.88458781e+02]\n",
      " [ 6.11310235e-01  1.64396655e+00  2.96308244e+02]\n",
      " [ 0.00000000e+00  0.00000000e+00  1.00000000e+00]]\n"
     ]
    }
   ],
   "source": [
    "h, status = cv2.findHomography(q, t)\n",
    "print(h, '\\n', TR)"
   ]
  },
  {
   "cell_type": "code",
   "execution_count": 78,
   "id": "ba120647-865a-4458-ba07-50b13f2c5b4d",
   "metadata": {},
   "outputs": [
    {
     "data": {
      "text/plain": [
       "216.99425079434917"
      ]
     },
     "execution_count": 78,
     "metadata": {},
     "output_type": "execute_result"
    }
   ],
   "source": [
    "np.linalg.norm(h - TR)"
   ]
  },
  {
   "cell_type": "code",
   "execution_count": 6,
   "id": "e04274ba-145a-4eb4-b09c-a2b52e291a12",
   "metadata": {},
   "outputs": [
    {
     "name": "stdout",
     "output_type": "stream",
     "text": [
      "^C\n"
     ]
    }
   ],
   "source": [
    "!python"
   ]
  },
  {
   "cell_type": "code",
   "execution_count": 177,
   "id": "d1496823-bafc-49af-a1e8-28df0bf50049",
   "metadata": {},
   "outputs": [
    {
     "data": {
      "text/plain": [
       "array([[  0.,   0.],\n",
       "       [224., 324.],\n",
       "       [200., 140.]])"
      ]
     },
     "execution_count": 177,
     "metadata": {},
     "output_type": "execute_result"
    }
   ],
   "source": [
    "q\n"
   ]
  },
  {
   "cell_type": "code",
   "execution_count": 141,
   "id": "1765b6ba-8eb9-4be2-a78b-3269227d4e47",
   "metadata": {},
   "outputs": [
    {
     "data": {
      "text/plain": [
       "array([[ 9.71724413e-01, -1.09916368e-01, -1.44229391e+02],\n",
       "       [ 3.05655117e-01,  8.21983274e-01, -1.48154122e+02],\n",
       "       [ 0.00000000e+00,  0.00000000e+00,  1.00000000e+00]])"
      ]
     },
     "execution_count": 141,
     "metadata": {},
     "output_type": "execute_result"
    }
   ],
   "source": [
    "TR"
   ]
  },
  {
   "cell_type": "code",
   "execution_count": 230,
   "id": "826e60bf-31e1-4029-a58d-894315e8dd4b",
   "metadata": {},
   "outputs": [
    {
     "data": {
      "text/plain": [
       "(array([[0, 0, 0, ..., 0, 0, 0],\n",
       "        [0, 0, 0, ..., 0, 0, 0],\n",
       "        [0, 0, 0, ..., 0, 0, 0],\n",
       "        ...,\n",
       "        [0, 0, 0, ..., 0, 0, 0],\n",
       "        [0, 0, 0, ..., 0, 0, 0],\n",
       "        [0, 0, 0, ..., 0, 0, 0]], dtype=uint8),\n",
       " -85,\n",
       " -1)"
      ]
     },
     "execution_count": 230,
     "metadata": {},
     "output_type": "execute_result"
    }
   ],
   "source": [
    "imgw"
   ]
  },
  {
   "cell_type": "code",
   "execution_count": 41,
   "id": "803cb6c9-8f02-4bbf-9c5e-2d98e7a4b0a7",
   "metadata": {},
   "outputs": [
    {
     "data": {
      "text/plain": [
       "[array([[[ 72,  74]],\n",
       " \n",
       "        [[ 88, 119]],\n",
       " \n",
       "        [[167, 110]],\n",
       " \n",
       "        [[150,  65]]])]"
      ]
     },
     "execution_count": 41,
     "metadata": {},
     "output_type": "execute_result"
    }
   ],
   "source": [
    "[p]"
   ]
  },
  {
   "cell_type": "markdown",
   "id": "7b4936c3-260c-4230-9051-9e32121bbbe5",
   "metadata": {},
   "source": [
    "<h1> Калибровка камеры </h1>"
   ]
  },
  {
   "cell_type": "code",
   "execution_count": 19,
   "id": "858784d3-30b3-4593-811c-a6600e87b844",
   "metadata": {},
   "outputs": [],
   "source": [
    "import numpy as np\n",
    "import cv2 as cv\n",
    "import glob\n",
    "import os\n",
    "# termination criteria\n",
    "criteria = (cv.TERM_CRITERIA_EPS + cv.TERM_CRITERIA_MAX_ITER, 30, 0.001)\n",
    "# prepare object points, like (0,0,0), (1,0,0), (2,0,0) ....,(6,5,0)\n",
    "objp = np.zeros((6*7,3), np.float32)\n",
    "objp[:,:2] = np.mgrid[0:7,0:6].T.reshape(-1,2)\n",
    "# Arrays to store object points and image points from all the images.\n",
    "objpoints = [] # 3d point in real world space\n",
    "imgpoints = [] # 2d points in image plane.\n",
    "\n",
    "images = glob.glob('data\\\\data\\\\left*.jpg')\n",
    "for fname in images:\n",
    "    img = cv.imread(fname)\n",
    "    gray = cv.cvtColor(img, cv.COLOR_BGR2GRAY)\n",
    "    # Find the chess board corners\n",
    "    ret, corners = cv.findChessboardCorners(gray, (7,6), None)\n",
    "    # If found, add object points, image points (after refining them)\n",
    "    if ret == True:\n",
    "        objpoints.append(objp)\n",
    "        corners2 = cv.cornerSubPix(gray,corners, (11,11), (-1,-1), criteria)\n",
    "        imgpoints.append(corners)\n",
    "        # Draw and display the corners\n",
    "        cv.drawChessboardCorners(img, (7,6), corners2, ret)\n",
    "        cv.imshow('img', img)\n",
    "        cv.waitKey(500)\n",
    "cv.destroyAllWindows()"
   ]
  },
  {
   "cell_type": "code",
   "execution_count": 135,
   "id": "869b5563-cb99-4990-a3c7-0b8e9fb99e7f",
   "metadata": {},
   "outputs": [
    {
     "data": {
      "text/plain": [
       "['data\\\\data\\\\left.jpg',\n",
       " 'data\\\\data\\\\left01.jpg',\n",
       " 'data\\\\data\\\\left02.jpg',\n",
       " 'data\\\\data\\\\left03.jpg',\n",
       " 'data\\\\data\\\\left04.jpg',\n",
       " 'data\\\\data\\\\left05.jpg',\n",
       " 'data\\\\data\\\\left06.jpg',\n",
       " 'data\\\\data\\\\left07.jpg',\n",
       " 'data\\\\data\\\\left08.jpg',\n",
       " 'data\\\\data\\\\left09.jpg',\n",
       " 'data\\\\data\\\\left11.jpg',\n",
       " 'data\\\\data\\\\left12.jpg',\n",
       " 'data\\\\data\\\\left13.jpg',\n",
       " 'data\\\\data\\\\left14.jpg']"
      ]
     },
     "execution_count": 135,
     "metadata": {},
     "output_type": "execute_result"
    }
   ],
   "source": [
    "images"
   ]
  },
  {
   "cell_type": "code",
   "execution_count": 136,
   "id": "8b09c316-299a-47af-b330-91355c337b35",
   "metadata": {},
   "outputs": [
    {
     "data": {
      "text/plain": [
       "array([[534.07088367,   0.        , 341.53407538],\n",
       "       [  0.        , 534.11914599, 232.94565269],\n",
       "       [  0.        ,   0.        ,   1.        ]])"
      ]
     },
     "execution_count": 136,
     "metadata": {},
     "output_type": "execute_result"
    }
   ],
   "source": [
    "ret, mtx, dist, rvecs, tvecs = cv.calibrateCamera(objpoints, imgpoints, gray.shape[::-1], None, None)\n",
    "mtx"
   ]
  },
  {
   "cell_type": "code",
   "execution_count": 141,
   "id": "091c4121-6fd7-4bc5-a031-4707607fe342",
   "metadata": {},
   "outputs": [
    {
     "data": {
      "text/plain": [
       "[array([[-0.43239599],\n",
       "        [ 0.25603401],\n",
       "        [-3.08832021]]),\n",
       " array([[ 0.41531697],\n",
       "        [ 0.65664497],\n",
       "        [-1.3373494 ]]),\n",
       " array([[-0.2645143 ],\n",
       "        [-0.39360849],\n",
       "        [-2.74787379]]),\n",
       " array([[-0.37843358],\n",
       "        [-0.18064237],\n",
       "        [-3.11615996]]),\n",
       " array([[-0.45993978],\n",
       "        [-0.3142018 ],\n",
       "        [-1.76122223]]),\n",
       " array([[-0.29979221],\n",
       "        [ 0.39216377],\n",
       "        [-1.4348239 ]]),\n",
       " array([[-0.32034625],\n",
       "        [ 0.1597993 ],\n",
       "        [-1.24149595]]),\n",
       " array([[-0.45883216],\n",
       "        [-0.08848877],\n",
       "        [-1.33510786]]),\n",
       " array([[-0.35367631],\n",
       "        [-0.24363035],\n",
       "        [-1.56874295]]),\n",
       " array([[ 0.30697385],\n",
       "        [ 0.5038552 ],\n",
       "        [-1.82824733]]),\n",
       " array([[-0.17288944],\n",
       "        [-0.46764681],\n",
       "        [ 1.34745198]])]"
      ]
     },
     "execution_count": 141,
     "metadata": {},
     "output_type": "execute_result"
    }
   ],
   "source": [
    "rvecs"
   ]
  },
  {
   "cell_type": "markdown",
   "id": "b647899f-3a6d-4143-a634-c6b913040b0d",
   "metadata": {},
   "source": [
    "<h1> Эпиполярные линии </h1>"
   ]
  },
  {
   "cell_type": "code",
   "execution_count": 20,
   "id": "6dbd5732-a9e5-4a06-a99c-b245244cad7f",
   "metadata": {},
   "outputs": [
    {
     "data": {
      "text/plain": [
       "array([0.972073, 0.21707 , 0.089186])"
      ]
     },
     "execution_count": 20,
     "metadata": {},
     "output_type": "execute_result"
    }
   ],
   "source": [
    "import numpy as np\n",
    "import cv2 as cv\n",
    "K =  np.array([[655.3076, 0,  340.3110], [0, 653.5052, 245.3426], [0,  0, 1.0000]])\n",
    "H_c2_c1 = np.array([[0.939891, 0.042845, -0.338777, 0.972073], \n",
    "                    [-0.070203, 0.995150, -0.068912, 0.217070], \n",
    "                    [0.334181, 0.088553, 0.938340, 0.089186],\n",
    "                    [0.000000, 0.000000, 0.000000, 1.000000]])\n",
    "Pc2org_c1 = np.array([0.972073, 0.217070, 0.089186])\n",
    "t = Pc2org_c1\n",
    "t"
   ]
  },
  {
   "cell_type": "code",
   "execution_count": 21,
   "id": "43263f1c-5edf-4d4d-b363-e12537a4b095",
   "metadata": {},
   "outputs": [
    {
     "data": {
      "text/plain": [
       "array([[ 0.07880179, -0.06953125,  0.20983145],\n",
       "       [-0.24102321, -0.08225881, -0.94234914],\n",
       "       [-0.27226458,  0.95805808,  0.00655083]])"
      ]
     },
     "execution_count": 21,
     "metadata": {},
     "output_type": "execute_result"
    }
   ],
   "source": [
    "E = [[0, -t[2], t[1]], [t[2], 0, -t[0]], [-t[1], t[0], 0]] @ H_c2_c1[0:3,0:3]\n",
    "E"
   ]
  },
  {
   "cell_type": "code",
   "execution_count": 22,
   "id": "27bb7f59-5e76-4e62-9fdf-396966b0ba90",
   "metadata": {},
   "outputs": [
    {
     "data": {
      "text/plain": [
       "array([[ 0.03920144,  0.03614944,  0.03157143],\n",
       "       [-0.12600145,  0.02395911,  0.1647384 ],\n",
       "       [ 1.        ,  1.        ,  1.        ]])"
      ]
     },
     "execution_count": 22,
     "metadata": {},
     "output_type": "execute_result"
    }
   ],
   "source": [
    "p2 = np.array([[366, 364, 361], [163,  261, 353], [1,   1,   1]])\n",
    "pn2 = np.linalg.inv(K) @ p2\n",
    "pn2"
   ]
  },
  {
   "cell_type": "code",
   "execution_count": 23,
   "id": "2a998106-d74b-4891-b369-2c56673a0b4b",
   "metadata": {},
   "outputs": [
    {
     "name": "stdout",
     "output_type": "stream",
     "text": [
      "(480, 640, 3)\n",
      "[ 0.03920144 -0.12600145  1.        ]\n",
      "[ 0.22168163 -0.94143287 -0.12483904] [-314    4    1] [995 312   1]\n",
      "[0.03614944 0.02395911 1.        ]\n",
      "[ 0.21101418 -0.95303284  0.01966283] [-314  114    1] [995 403   1]\n",
      "[0.03157143 0.1647384  1.        ]\n",
      "[ 0.20086487 -0.96350978  0.155784  ] [-314  214    1] [995 487   1]\n"
     ]
    }
   ],
   "source": [
    "img = cv.imread('data\\\\data\\\\cube2.jpg')\n",
    "img1 = cv.imread('data\\\\data\\\\cube1.jpg')\n",
    "print(img.shape)\n",
    "for i in range(pn2.shape[1]):\n",
    "    print(pn2[:,i])\n",
    "    l = E @ pn2[:,i].T\n",
    "    R = 1\n",
    "    pLine0 = [-1, (-l[2]-l[0]*(-1))/l[1], 1]\n",
    "    pLine1 = [1, (-l[2]-l[0])/l[1], 1]\n",
    "    \n",
    "    pLine0 = np.array(K @ pLine0, dtype = int)\n",
    "    pLine1 = np.array(K @ pLine1, dtype = int)\n",
    "    print(l, pLine0, pLine1)\n",
    "    cv.line(img,(pLine0[0], pLine0[1]), (pLine1[0], pLine1[1]), (0,0,255), 3)\n",
    "    cv.circle(img1,(p2[0][i], p2[1][i]), 3, (0,0,255), -1)\n",
    "cv.imshow('qaa',img)\n",
    "cv.imshow('2',img1)\n",
    "cv.waitKey()\n",
    "cv.destroyAllWindows()"
   ]
  },
  {
   "cell_type": "code",
   "execution_count": 5,
   "id": "c2ecaacc-0508-4f6d-ac8f-d6be8638e69e",
   "metadata": {},
   "outputs": [
    {
     "data": {
      "text/plain": [
       "numpy.ndarray"
      ]
     },
     "execution_count": 5,
     "metadata": {},
     "output_type": "execute_result"
    }
   ],
   "source": [
    "type(img)"
   ]
  },
  {
   "cell_type": "code",
   "execution_count": 6,
   "id": "aeb3f114-4ccf-40fd-a2fc-377c8738a813",
   "metadata": {},
   "outputs": [
    {
     "name": "stdout",
     "output_type": "stream",
     "text": [
      " Том в устройстве C не имеет метки.\n",
      " Серийный номер тома: 901D-1A3D\n",
      "\n",
      " Содержимое папки C:\\Users\\great\\projects\\контест\n",
      "\n",
      "08.12.2021  11:34    <DIR>          .\n",
      "08.12.2021  11:34    <DIR>          ..\n",
      "27.06.2021  12:01    <DIR>          .ipynb_checkpoints\n",
      "11.09.2021  11:34            59 475 1.jpg\n",
      "11.09.2021  12:32           549 749 1.mkv\n",
      "28.11.2021  15:54         9 108 540 1608650180188378672.png\n",
      "12.11.2021  19:37            50 728 box.png\n",
      "12.11.2021  19:37           122 490 box_in_scene.png\n",
      "09.04.2021  23:52            16 979 CSC2021.ipynb\n",
      "20.11.2021  10:59    <DIR>          data\n",
      "06.11.2021  13:24            50 178 ef.jpg\n",
      "06.11.2021  13:22            29 498 et.jpg\n",
      "06.11.2021  10:43            62 580 f1.jpg\n",
      "06.11.2021  10:39           104 080 f2.jpg\n",
      "06.11.2021  10:22           146 130 full.jpg\n",
      "06.11.2021  12:59           209 147 Hf.jpg\n",
      "06.11.2021  12:58             9 321 ht.jpg\n",
      "06.11.2021  12:59            28 611 ht1.png\n",
      "06.11.2021  13:17            45 626 ht3.jpg\n",
      "28.11.2021  17:15           321 530 hu-tao-ghost-genshin-impact-anime-video-game-wallpaper-2560x1440_51.jpg\n",
      "11.02.2021  13:22                23 input.txt\n",
      "06.11.2021  12:35            26 137 marq.jpg\n",
      "06.11.2021  12:35            11 004 mart.png\n",
      "08.12.2021  11:34         1 245 633 Menu.ipynb\n",
      "06.11.2021  12:40             2 603 mlq.png\n",
      "06.11.2021  12:41           199 725 mlt.jpg\n",
      "09.10.2021  10:38           516 610 out.avi\n",
      "11.02.2021  13:22                 0 output.txt\n",
      "02.10.2021  12:02         1 901 139 test.mp4\n",
      "06.11.2021  10:20            46 638 tmp.jpg\n",
      "16.04.2021  20:29            10 519 Untitled.ipynb\n",
      "11.02.2021  15:47            32 955 Yandex_2021.ipynb\n",
      "09.10.2021  10:36            58 846 z.jpg\n",
      "              29 файлов     14 966 494 байт\n",
      "               4 папок  136 576 962 560 байт свободно\n"
     ]
    }
   ],
   "source": [
    "!dir"
   ]
  },
  {
   "cell_type": "code",
   "execution_count": 24,
   "id": "23f92b00-edb6-45d2-9c42-c3bd151a9277",
   "metadata": {},
   "outputs": [
    {
     "ename": "NameError",
     "evalue": "name 'mouseX' is not defined",
     "output_type": "error",
     "traceback": [
      "\u001b[1;31m---------------------------------------------------------------------------\u001b[0m",
      "\u001b[1;31mNameError\u001b[0m                                 Traceback (most recent call last)",
      "\u001b[1;32m<ipython-input-24-e83ba2ccd171>\u001b[0m in \u001b[0;36m<module>\u001b[1;34m\u001b[0m\n\u001b[0;32m     14\u001b[0m         \u001b[1;32mbreak\u001b[0m\u001b[1;33m\u001b[0m\u001b[1;33m\u001b[0m\u001b[0m\n\u001b[0;32m     15\u001b[0m     \u001b[1;32melif\u001b[0m \u001b[0mk\u001b[0m \u001b[1;33m==\u001b[0m \u001b[0mord\u001b[0m\u001b[1;33m(\u001b[0m\u001b[1;34m'a'\u001b[0m\u001b[1;33m)\u001b[0m\u001b[1;33m:\u001b[0m\u001b[1;33m\u001b[0m\u001b[1;33m\u001b[0m\u001b[0m\n\u001b[1;32m---> 16\u001b[1;33m         \u001b[0mprint\u001b[0m \u001b[1;33m(\u001b[0m\u001b[0mmouseX\u001b[0m\u001b[1;33m,\u001b[0m\u001b[0mmouseY\u001b[0m\u001b[1;33m)\u001b[0m\u001b[1;33m\u001b[0m\u001b[1;33m\u001b[0m\u001b[0m\n\u001b[0m",
      "\u001b[1;31mNameError\u001b[0m: name 'mouseX' is not defined"
     ]
    }
   ],
   "source": [
    "def draw_circle(event,x,y,flags,param):\n",
    "    global mouseX,mouseY\n",
    "    if event == cv.EVENT_LBUTTONDBLCLK:\n",
    "        cv.circle(img,(x,y),1,(255,0,0),-1)\n",
    "        mouseX,mouseY = x,y\n",
    "        \n",
    "cv.namedWindow('image')\n",
    "cv.setMouseCallback('image',draw_circle)\n",
    "\n",
    "while(1):\n",
    "    cv.imshow('image',img)\n",
    "    k = cv.waitKey(20) & 0xFF\n",
    "    if k == 27:\n",
    "        break\n",
    "    elif k == ord('a'):\n",
    "        print (mouseX,mouseY)"
   ]
  },
  {
   "cell_type": "code",
   "execution_count": 25,
   "id": "d2165e8c-fc0d-4924-8da5-af5b4f267a35",
   "metadata": {},
   "outputs": [],
   "source": [
    "cv.destroyAllWindows()"
   ]
  },
  {
   "cell_type": "markdown",
   "id": "ef04882e-d461-45fa-8a6e-a52339d77574",
   "metadata": {},
   "source": [
    "<h1> Поиск существенной матрицы </h1>"
   ]
  },
  {
   "cell_type": "code",
   "execution_count": 26,
   "id": "2f4c7230-362d-438f-bfa3-0e7ac3c129bd",
   "metadata": {},
   "outputs": [
    {
     "name": "stdout",
     "output_type": "stream",
     "text": [
      "(2, 1)\n",
      "(2, 1)\n",
      "[[9.91183695 0.         0.33141422]\n",
      " [0.         9.91183695 0.41167695]\n",
      " [0.         0.         1.        ]] \n",
      " [[ 9.7460365   0.         -0.21251259]\n",
      " [ 0.          9.7460365   0.20494999]\n",
      " [ 0.          0.          1.        ]]\n",
      "[[-0.88332758 -0.1119285   1.02248193 -0.85307664 -0.12705397  1.00735646\n",
      "  -0.80770022 -0.08167755  0.97710551 -0.14217944]\n",
      " [-1.04956949 -1.07990386 -1.06473668  0.23964159  0.33064472  0.28514316\n",
      "   1.52885266  1.7563605   1.60468861 -2.55112121]\n",
      " [ 1.          1.          1.          1.          1.          1.\n",
      "   1.          1.          1.          1.        ]] \n",
      " [[-1.04999572  0.16954605  0.8685517  -1.03512326  0.15467359  0.80906186\n",
      "  -1.0202508   0.11005621  0.77931694  0.21416343]\n",
      " [-1.08271862 -1.00815122 -1.0976321   0.27440803  0.4384563   0.21475411\n",
      "   1.52714032  1.82540991  1.43765944 -2.52932615]\n",
      " [ 1.          1.          1.          1.          1.          1.\n",
      "   1.          1.          1.          1.        ]]\n",
      "[ 0.92749018 -0.01897703  0.88807842  0.88303947 -0.01965189  0.81501369\n",
      "  0.8240568  -0.00898912  0.76147487 -0.03044964]\n"
     ]
    },
    {
     "data": {
      "text/plain": [
       "array([[ 0.92749018,  0.95639522, -0.88332758,  1.10204347,  1.13638843,\n",
       "        -1.04956949, -1.04999572, -1.08271862,  1.        ],\n",
       "       [-0.01897703,  0.11284085, -0.1119285 , -0.18309344,  1.0887064 ,\n",
       "        -1.07990386,  0.16954605, -1.00815122,  1.        ],\n",
       "       [ 0.88807842, -1.12230899,  1.02248193, -0.92477885,  1.16868915,\n",
       "        -1.06473668,  0.8685517 , -1.0976321 ,  1.        ],\n",
       "       [ 0.88303947, -0.23409108, -0.85307664, -0.24805858,  0.06575957,\n",
       "         0.23964159, -1.03512326,  0.27440803,  1.        ],\n",
       "       [-0.01965189, -0.05570761, -0.12705397,  0.05114201,  0.14497326,\n",
       "         0.33064472,  0.15467359,  0.4384563 ,  1.        ],\n",
       "       [ 0.81501369,  0.21633394,  1.00735646,  0.23069845,  0.06123566,\n",
       "         0.28514316,  0.80906186,  0.21475411,  1.        ],\n",
       "       [ 0.8240568 , -1.23347157, -0.80770022, -1.55981315,  2.33477254,\n",
       "         1.52885266, -1.0202508 ,  1.52714032,  1.        ],\n",
       "       [-0.00898912, -0.14909501, -0.08167755,  0.19329838,  3.20607786,\n",
       "         1.7563605 ,  0.11005621,  1.82540991,  1.        ],\n",
       "       [ 0.76147487,  1.40474496,  0.97710551,  1.25056101,  2.30699572,\n",
       "         1.60468861,  0.77931694,  1.43765944,  1.        ],\n",
       "       [-0.03044964,  0.35961817, -0.14217944, -0.54635688,  6.45261758,\n",
       "        -2.55112121,  0.21416343, -2.52932615,  1.        ]])"
      ]
     },
     "execution_count": 26,
     "metadata": {},
     "output_type": "execute_result"
    }
   ],
   "source": [
    "img = cv.imread('data\\\\data\\\\cube2.jpg')\n",
    "img1 = cv.imread('data\\\\data\\\\cube1.jpg')\n",
    "x0 = [260, 311, 386, 262, 310, 385, 265, 313, 383, 309]\n",
    "y0 = [149, 147, 148, 234, 240, 237, 319, 334, 324, 50]\n",
    "x1 = [284, 366, 413, 285, 365, 409, 286, 362, 407, 369]\n",
    "y1 = [159, 164, 158, 250, 261, 246, 334, 354, 328, 62]\n",
    "\n",
    "\n",
    "\n",
    "A = np.zeros((10,9), dtype = float)\n",
    "N = len(x0)\n",
    "p0 = np.zeros((3,len(x0)))\n",
    "p1 = np.zeros((3,len(x0)))\n",
    "for i in range(len(x0)):\n",
    "    p0[:,i] = np.linalg.inv(K) @ np.array([x0[i],y0[i],1.], dtype = np.float).T\n",
    "    p1[:,i] = np.linalg.inv(K) @ np.array([x1[i], y1[i], 1.], dtype = np.float).T\n",
    "    #print(p0, p1)\n",
    "xn = p0[0:2,:]\n",
    "t = (1./N) * np.sum(xn,1)\n",
    "t = np.expand_dims(t, -1)\n",
    "print(t.shape)\n",
    "xnc = xn - t @ np.ones((1,N))\n",
    "dc = np.sqrt(np.sum(np.square(xnc), 0))\n",
    "davg = (1./N)*np.sum(dc)\n",
    "s = np.sqrt([2]) / davg\n",
    "#print(s*np.eye(2))\n",
    "T1 = np.block([[s*np.eye(2), -s*t],[0,0,1]])\n",
    "p1s = T1 @ p0\n",
    "\n",
    "xn = p1[0:2,:]\n",
    "t = (1./N) * np.sum(xn,1)\n",
    "t = np.expand_dims(t, -1)\n",
    "print(t.shape)\n",
    "xnc = xn - t @ np.ones((1,N))\n",
    "dc = np.sqrt(np.sum(np.square(xnc),0))\n",
    "davg = (1./N)*np.sum(dc)\n",
    "s = np.sqrt([2]) / davg\n",
    "#print(s*np.eye(2))\n",
    "T2 = np.block([[s*np.eye(2), -s*t],[0,0,1]])\n",
    "p2s = T2 @ p1\n",
    "#    A[i,:] = [p0[0]*p1[0], p0[0]*p1[1], p0[0], p0[1]*p1[0], p0[1]*p1[1], p0[1], p1[0], p1[1], 1.]\n",
    "\n",
    "A = np.array([p1s[0,:].T * p2s[0,:].T, p1s[0,:].T*p2s[1,:].T, p1s[0,:].T, p1s[1,:].T*p2s[0,:].T, p1s[1,:].T*p2s[1,:].T, p1s[1,:].T, \n",
    "              p2s[0,:].T, p2s[1,:].T, np.ones((p1s.shape[1]))]).T\n",
    "for i in range(len(x0)):\n",
    "    cv.circle(img,(x0[i],y0[i]),3,(255,0,0),-1)\n",
    "    cv.circle(img1,(x1[i],y1[i]),3,(255,0,0),-1)\n",
    "cv.imshow('image',img)\n",
    "cv.imshow('image1',img1)\n",
    "cv.waitKey()\n",
    "cv.destroyAllWindows()\n",
    "print(T1, '\\n',  T2)\n",
    "print(p1s, '\\n',  p2s)\n",
    "print(p1s[0,:].T * p2s[0,:].T)\n",
    "A"
   ]
  },
  {
   "cell_type": "code",
   "execution_count": 20,
   "id": "c48cab99-c7e1-4ba3-a94b-781e1d2a474f",
   "metadata": {},
   "outputs": [
    {
     "name": "stdout",
     "output_type": "stream",
     "text": [
      "[[-0.08780446  0.10904778 -0.02594108  0.07510495 -0.62871282 -0.67595253\n",
      "  -0.03262779  0.34475798  0.04439589]\n",
      " [-0.0287054  -0.02178169  0.57172769  0.39358623  0.07272389 -0.06527555\n",
      "   0.70991855  0.03469528 -0.04670243]\n",
      " [ 0.01102444  0.01069801  0.38815677 -0.57695916 -0.13539603 -0.2691944\n",
      "   0.00621784 -0.58185892 -0.29465283]\n",
      " [ 0.05643114  0.02798639  0.60455524  0.38862225 -0.02261657  0.06145077\n",
      "  -0.68862632 -0.02251206  0.02274414]\n",
      " [-0.92805273  0.19307857  0.02003574 -0.01574544  0.28615278 -0.11212744\n",
      "  -0.07922822  0.00289451 -0.00692652]\n",
      " [ 0.16921514  0.68234657  0.01884542 -0.02368379  0.08744932 -0.08748056\n",
      "   0.06386294 -0.25562205  0.64817589]\n",
      " [-0.01684513 -0.02673372  0.394012   -0.59243834  0.00255763  0.23883693\n",
      "   0.0194403   0.6032336   0.26730989]\n",
      " [ 0.16880703  0.67524447 -0.01712477 -0.015859    0.10602539  0.08866166\n",
      "  -0.00879076  0.28107124 -0.64561888]\n",
      " [-0.26356243  0.16489542 -0.00255056  0.05913087 -0.69268255  0.61437454\n",
      "   0.09947575 -0.18063428 -0.0072126 ]]\n"
     ]
    },
    {
     "data": {
      "text/plain": [
       "array([[ 0.04439589, -0.04670243, -0.29465283],\n",
       "       [ 0.02274414, -0.00692652,  0.64817589],\n",
       "       [ 0.26730989, -0.64561888, -0.0072126 ]])"
      ]
     },
     "execution_count": 20,
     "metadata": {},
     "output_type": "execute_result"
    }
   ],
   "source": [
    "U, s, V = np.linalg.svd(A, full_matrices=True)\n",
    "print(V.T)\n",
    "E1 = np.reshape(V.T[:,V.shape[0]-1], (3,3))\n",
    "E1"
   ]
  },
  {
   "cell_type": "code",
   "execution_count": 21,
   "id": "c9f0e171-35b7-43ad-9c76-5a91e0fa6a63",
   "metadata": {},
   "outputs": [
    {
     "data": {
      "text/plain": [
       "array([[ 2.62719585, -7.32604978, -4.29921018],\n",
       "       [ 2.0723205 , -2.64345368,  8.92823805],\n",
       "       [ 3.92111268, -9.31142679, -0.04032805]])"
      ]
     },
     "execution_count": 21,
     "metadata": {},
     "output_type": "execute_result"
    }
   ],
   "source": [
    "U, s, V = np.linalg.svd(E1, full_matrices=True)\n",
    "E1 = U @ np.diag([1,1,0]) @ V\n",
    "E1 = T1.T @ E1 @ T2\n",
    "E1"
   ]
  },
  {
   "cell_type": "code",
   "execution_count": 22,
   "id": "f8e1c54f-34ad-4d12-b9b0-c4248d90ff9e",
   "metadata": {},
   "outputs": [
    {
     "data": {
      "text/plain": [
       "(array([[ 0.07880179, -0.21974223, -0.12895326],\n",
       "        [ 0.06215851, -0.07928944,  0.26779929],\n",
       "        [ 0.11761236, -0.2792929 , -0.00120963]]),\n",
       " array([[ 0.07880179, -0.06953125,  0.20983145],\n",
       "        [-0.24102321, -0.08225881, -0.94234914],\n",
       "        [-0.27226458,  0.95805808,  0.00655083]]))"
      ]
     },
     "execution_count": 22,
     "metadata": {},
     "output_type": "execute_result"
    }
   ],
   "source": [
    "c = E[0,0] / E1[0,0]\n",
    "E1 = E1 * c\n",
    "E1, E"
   ]
  },
  {
   "cell_type": "code",
   "execution_count": 23,
   "id": "47adfb65-a7d0-4cec-a2d9-71c3093e77a9",
   "metadata": {},
   "outputs": [
    {
     "data": {
      "text/plain": [
       "1.8376145732745064"
      ]
     },
     "execution_count": 23,
     "metadata": {},
     "output_type": "execute_result"
    }
   ],
   "source": [
    "np.linalg.norm(E-E1)"
   ]
  },
  {
   "cell_type": "code",
   "execution_count": 19,
   "id": "aff3dac1-44f9-4011-8c38-cb6e1fe11db9",
   "metadata": {},
   "outputs": [
    {
     "data": {
      "text/plain": [
       "2"
      ]
     },
     "execution_count": 19,
     "metadata": {},
     "output_type": "execute_result"
    }
   ],
   "source": [
    "np.linalg.matrix_rank(E1)"
   ]
  },
  {
   "cell_type": "code",
   "execution_count": 27,
   "id": "c3991f75-70fc-4d51-873a-7509fa90b559",
   "metadata": {},
   "outputs": [
    {
     "name": "stdout",
     "output_type": "stream",
     "text": [
      "[-0.12255466 -0.14742438  1.        ]\n",
      "[-0.04472861 -0.1504848   1.        ]\n",
      "[ 0.06972146 -0.14895459  1.        ]\n",
      "[-0.11950266 -0.01735656  1.        ]\n",
      "[-0.04625461 -0.0081753   1.        ]\n",
      "[ 0.06819546 -0.01276593  1.        ]\n",
      "[-0.11492466  0.11271127  1.        ]\n",
      "[-0.04167661  0.13566441  1.        ]\n",
      "[0.06514345 0.12036232 1.        ]\n",
      "[-0.04778061 -0.29891514  1.        ]\n"
     ]
    },
    {
     "data": {
      "text/plain": [
       "array([[ 1.05312001e-02,  1.61922016e-02, -1.22554660e-01,\n",
       "         1.26682711e-02,  1.94780461e-02, -1.47424382e-01,\n",
       "        -8.59306378e-02, -1.32122285e-01,  1.00000000e+00],\n",
       "       [-1.75342593e-03,  5.56742574e-03, -4.47286129e-02,\n",
       "        -5.89922054e-03,  1.87310292e-02, -1.50484801e-01,\n",
       "         3.92014376e-02, -1.24471236e-01,  1.00000000e+00],\n",
       "       [ 7.73374659e-03, -9.31844650e-03,  6.97214560e-02,\n",
       "        -1.65225618e-02,  1.99081527e-02, -1.48954591e-01,\n",
       "         1.10923481e-01, -1.33652494e-01,  1.00000000e+00],\n",
       "       [ 1.00865784e-02, -8.51671386e-04, -1.19502658e-01,\n",
       "         1.46497386e-03, -1.23696685e-04, -1.73565566e-02,\n",
       "        -8.44046368e-02,  7.12679868e-03,  1.00000000e+00],\n",
       "       [-1.74266278e-03, -1.10821917e-03, -4.62546139e-02,\n",
       "        -3.08007936e-04, -1.95872836e-04, -8.17529838e-03,\n",
       "         3.76754367e-02,  2.39591055e-02,  1.00000000e+00],\n",
       "       [ 7.14821195e-03,  6.86018905e-05,  6.81954551e-02,\n",
       "        -1.33811785e-03, -1.28420106e-05, -1.27659275e-02,\n",
       "         1.04819477e-01,  1.00595986e-03,  1.00000000e+00],\n",
       "       [ 9.52479866e-03, -1.55911860e-02, -1.14924655e-01,\n",
       "        -9.34135618e-03,  1.52909082e-02,  1.12711268e-01,\n",
       "        -8.28786359e-02,  1.35664414e-01,  1.00000000e+00],\n",
       "       [-1.37938888e-03, -6.92951212e-03, -4.16766111e-02,\n",
       "         4.49014398e-03,  2.25567333e-02,  1.35664414e-01,\n",
       "         3.30974339e-02,  1.66268608e-01,  1.00000000e+00],\n",
       "       [ 6.62948477e-03,  8.23954954e-03,  6.51434532e-02,\n",
       "         1.22489691e-02,  1.52238057e-02,  1.20362317e-01,\n",
       "         1.01767475e-01,  1.26483156e-01,  1.00000000e+00],\n",
       "       [-2.09180858e-03,  1.34049770e-02, -4.77806148e-02,\n",
       "        -1.30863377e-02,  8.38614282e-02, -2.98915143e-01,\n",
       "         4.37794404e-02, -2.80552626e-01,  1.00000000e+00]])"
      ]
     },
     "execution_count": 27,
     "metadata": {},
     "output_type": "execute_result"
    }
   ],
   "source": [
    "img = cv.imread('data\\\\data\\\\cube2.jpg')\n",
    "img1 = cv.imread('data\\\\data\\\\cube1.jpg')\n",
    "x0 = [260, 311, 386, 262, 310, 385, 265, 313, 383, 309]\n",
    "y0 = [149, 147, 148, 234, 240, 237, 319, 334, 324, 50]\n",
    "x1 = [284, 366, 413, 285, 365, 409, 286, 362, 407, 369]\n",
    "y1 = [159, 164, 158, 250, 261, 246, 334, 354, 328, 62]\n",
    "\n",
    "\n",
    "\n",
    "A = np.zeros((10,9), dtype = float)\n",
    "N = len(x0)\n",
    "#p0 = np.zeros((3,len(x0)))\n",
    "#p1 = np.zeros((3,len(x0)))\n",
    "for i in range(len(x0)):\n",
    "    p0 = np.linalg.inv(K) @ np.array([x0[i],y0[i],1.], dtype = np.float).T\n",
    "    print(p0)\n",
    "    p1 = np.linalg.inv(K) @ np.array([x1[i], y1[i], 1.], dtype = np.float).T\n",
    "    A[i,:] = [p0[0]*p1[0], p0[0]*p1[1], p0[0], p0[1]*p1[0], p0[1]*p1[1], p0[1], p1[0], p1[1], 1.]\n",
    "for i in range(len(x0)):\n",
    "    clr = (255,0,0)\n",
    "    if (i == 9):\n",
    "        clr = (0,0,255)\n",
    "    cv.circle(img,(x0[i],y0[i]),3,clr,-1)\n",
    "    cv.circle(img1,(x1[i],y1[i]),3,clr,-1)\n",
    "cv.imshow('image',img)\n",
    "cv.imshow('image1',img1)\n",
    "cv.waitKey()\n",
    "cv.destroyAllWindows()\n",
    "#print(T1, '\\n',  T2)\n",
    "#print(p1s, '\\n',  p2s)\n",
    "#print(p1s[0,:].T * p2s[0,:].T)\n",
    "A"
   ]
  },
  {
   "cell_type": "code",
   "execution_count": 135,
   "id": "9b35d1ac-652d-41e5-a311-e1e647fc2e0d",
   "metadata": {},
   "outputs": [
    {
     "name": "stdout",
     "output_type": "stream",
     "text": [
      "[[-0.00444687  0.00557537 -0.01194491  0.18481666  0.2223626   0.04656981\n",
      "   0.07695407  0.00104043 -0.9529493 ]\n",
      " [-0.00101539 -0.0275041  -0.00343572 -0.02526244  0.09067958 -0.68340114\n",
      "  -0.55447613 -0.46041171 -0.06252909]\n",
      " [ 0.03346051  0.01141446  0.69729612  0.40799469  0.50312062  0.09037905\n",
      "   0.08630342 -0.19435065  0.19887024]\n",
      " [ 0.00159789  0.0216545  -0.01498722  0.07766769  0.04896872 -0.70296647\n",
      "   0.65752551  0.24954601  0.04581317]\n",
      " [-0.01957076 -0.07232632  0.00175244 -0.79000657  0.59122396  0.04765372\n",
      "   0.12397737 -0.05544643 -0.0033321 ]\n",
      " [ 0.04271324  0.70023082  0.02613184  0.00421321  0.22783766 -0.0928855\n",
      "  -0.35560986  0.56527431  0.02491219]\n",
      " [-0.02175627 -0.03079874  0.71596159 -0.39237675 -0.49647656 -0.1012762\n",
      "  -0.05627595  0.16695484 -0.21031131]\n",
      " [ 0.02225664  0.70695262 -0.00594947 -0.11586274 -0.19606077  0.08547455\n",
      "   0.31909881 -0.58093212 -0.03480171]\n",
      " [-0.99783812  0.04825305  0.00875628  0.03465346  0.0204751   0.00159686\n",
      "  -0.00514105  0.00303302  0.01599353]]\n"
     ]
    },
    {
     "data": {
      "text/plain": [
       "array([[-0.9529493 , -0.06252909,  0.19887024],\n",
       "       [ 0.04581317, -0.0033321 ,  0.02491219],\n",
       "       [-0.21031131, -0.03480171,  0.01599353]])"
      ]
     },
     "execution_count": 135,
     "metadata": {},
     "output_type": "execute_result"
    }
   ],
   "source": [
    "U, s, V = np.linalg.svd(A, full_matrices=True)\n",
    "print(V.T)\n",
    "E1 = np.reshape(V.T[:,V.shape[0]-1], (3,3))\n",
    "E1"
   ]
  },
  {
   "cell_type": "code",
   "execution_count": 171,
   "id": "4aa3bfd7-4add-40bd-b30b-e397d1cb868c",
   "metadata": {},
   "outputs": [
    {
     "data": {
      "text/plain": [
       "(array([[ 0.07880179, -0.21974223, -0.12895326],\n",
       "        [ 0.06215851, -0.07928944,  0.26779929],\n",
       "        [ 0.11761236, -0.2792929 , -0.00120963]]),\n",
       " array([[ 0.07880179, -0.06953125,  0.20983145],\n",
       "        [-0.24102321, -0.08225881, -0.94234914],\n",
       "        [-0.27226458,  0.95805808,  0.00655083]]))"
      ]
     },
     "execution_count": 171,
     "metadata": {},
     "output_type": "execute_result"
    }
   ],
   "source": [
    "c = E[0,0] / E1[0,0]\n",
    "E1 = E1 * c\n",
    "E1, E"
   ]
  },
  {
   "cell_type": "code",
   "execution_count": 172,
   "id": "3e1b9bac-4665-4a5f-b374-72e59dac9990",
   "metadata": {},
   "outputs": [
    {
     "data": {
      "text/plain": [
       "1.8376145732745064"
      ]
     },
     "execution_count": 172,
     "metadata": {},
     "output_type": "execute_result"
    }
   ],
   "source": [
    "np.linalg.norm(E-E1)"
   ]
  },
  {
   "cell_type": "code",
   "execution_count": 183,
   "id": "2a2c6a1d-9454-4454-bdbc-6cb25d5296ff",
   "metadata": {},
   "outputs": [
    {
     "data": {
      "text/plain": [
       "array([[ 0.07880179, -0.06953125,  0.20983145],\n",
       "       [-0.24102321, -0.08225881, -0.94234914],\n",
       "       [-0.27226458,  0.95805808,  0.00655083]])"
      ]
     },
     "execution_count": 183,
     "metadata": {},
     "output_type": "execute_result"
    }
   ],
   "source": [
    "E"
   ]
  },
  {
   "cell_type": "markdown",
   "id": "3b8555e4-2bc1-4cec-88fc-40922d6995ba",
   "metadata": {},
   "source": [
    "<h1> Задача триангуляции </h1>"
   ]
  },
  {
   "cell_type": "code",
   "execution_count": 214,
   "id": "0d9c66f8-9253-41ff-8aab-f94280e5c73a",
   "metadata": {},
   "outputs": [
    {
     "data": {
      "text/plain": [
       "(array([[ 0.33785011,  0.94045643,  0.03740318],\n",
       "        [ 0.58715862, -0.24165686,  0.77255855],\n",
       "        [-0.73559639,  0.23904739,  0.6338409 ]]),\n",
       " array([[0.97207327],\n",
       "        [0.21707006],\n",
       "        [0.08918602]]))"
      ]
     },
     "execution_count": 214,
     "metadata": {},
     "output_type": "execute_result"
    }
   ],
   "source": [
    "U, s, V = np.linalg.svd(E, full_matrices=True)\n",
    "W = np.array([[0,-1,0],[1,0,0],[0,0,1]])\n",
    "U@W@V.T, np.expand_dims(U[:,2], -1)"
   ]
  },
  {
   "cell_type": "code",
   "execution_count": 226,
   "id": "31c4b0cc-75e1-487c-a342-d29cd8d025ff",
   "metadata": {},
   "outputs": [
    {
     "data": {
      "text/plain": [
       "array([[ 0.939891,  0.042845, -0.338777,  0.972073],\n",
       "       [-0.070203,  0.99515 , -0.068912,  0.21707 ],\n",
       "       [ 0.334181,  0.088553,  0.93834 ,  0.089186],\n",
       "       [ 0.      ,  0.      ,  0.      ,  1.      ]])"
      ]
     },
     "execution_count": 226,
     "metadata": {},
     "output_type": "execute_result"
    }
   ],
   "source": [
    "H_c2_c1"
   ]
  },
  {
   "cell_type": "code",
   "execution_count": 235,
   "id": "710c0b3c-8dfa-4b7b-87c1-e13078b06a55",
   "metadata": {},
   "outputs": [
    {
     "data": {
      "text/plain": [
       "array([[ 0.93989076,  0.04284513, -0.33877669,  0.97207327],\n",
       "       [-0.07020295,  0.99514958, -0.06891202,  0.21707006],\n",
       "       [ 0.33418093,  0.0885529 ,  0.93833975,  0.08918602],\n",
       "       [ 0.        ,  0.        ,  0.        ,  1.        ]])"
      ]
     },
     "execution_count": 235,
     "metadata": {},
     "output_type": "execute_result"
    }
   ],
   "source": [
    "Mt = np.block([[U@W@V, np.expand_dims(U[:,2], -1)], [np.array([0,0,0,1])]])\n",
    "if np.linalg.det(Mt) < 0:\n",
    "    Mt[0:3,0:3] = -1*Mt[0:3,0:3]\n",
    "Mt"
   ]
  },
  {
   "cell_type": "code",
   "execution_count": 236,
   "id": "6d2cb9a4-1397-4946-9adc-f614535d79b9",
   "metadata": {},
   "outputs": [
    {
     "data": {
      "text/plain": [
       "array([[ 0.93989076,  0.04284513, -0.33877669, -0.97207327],\n",
       "       [-0.07020295,  0.99514958, -0.06891202, -0.21707006],\n",
       "       [ 0.33418093,  0.0885529 ,  0.93833975, -0.08918602],\n",
       "       [ 0.        ,  0.        ,  0.        ,  1.        ]])"
      ]
     },
     "execution_count": 236,
     "metadata": {},
     "output_type": "execute_result"
    }
   ],
   "source": [
    "Mt = np.block([[U@W@V, -1*np.expand_dims(U[:,2], -1)], [np.array([0,0,0,1])]])\n",
    "if np.linalg.det(Mt) < 0:\n",
    "    Mt[0:3,0:3] = -1*Mt[0:3,0:3]\n",
    "Mt"
   ]
  },
  {
   "cell_type": "code",
   "execution_count": 237,
   "id": "f98a743e-7764-478e-827b-51fc91744e7d",
   "metadata": {},
   "outputs": [
    {
     "data": {
      "text/plain": [
       "array([[ 0.86468161,  0.47344916, -0.167844  ,  0.97207327],\n",
       "       [ 0.47317528, -0.87985782, -0.04421956,  0.21707006],\n",
       "       [-0.16861457, -0.0411838 , -0.98482131,  0.08918602],\n",
       "       [ 0.        ,  0.        ,  0.        ,  1.        ]])"
      ]
     },
     "execution_count": 237,
     "metadata": {},
     "output_type": "execute_result"
    }
   ],
   "source": [
    "Mt = np.block([[U@W.T@V, np.expand_dims(U[:,2], -1)], [np.array([0,0,0,1])]])\n",
    "if np.linalg.det(Mt) < 0:\n",
    "    Mt[0:3,0:3] = -1*Mt[0:3,0:3]\n",
    "Mt"
   ]
  },
  {
   "cell_type": "code",
   "execution_count": 238,
   "id": "e490c750-0b3b-4215-94f7-a3ca3436699a",
   "metadata": {},
   "outputs": [
    {
     "data": {
      "text/plain": [
       "array([[ 0.86468161,  0.47344916, -0.167844  , -0.97207327],\n",
       "       [ 0.47317528, -0.87985782, -0.04421956, -0.21707006],\n",
       "       [-0.16861457, -0.0411838 , -0.98482131, -0.08918602],\n",
       "       [ 0.        ,  0.        ,  0.        ,  1.        ]])"
      ]
     },
     "execution_count": 238,
     "metadata": {},
     "output_type": "execute_result"
    }
   ],
   "source": [
    "Mt = np.block([[U@W.T@V, -1*np.expand_dims(U[:,2], -1)], [np.array([0,0,0,1])]])\n",
    "if np.linalg.det(Mt) < 0:\n",
    "    Mt[0:3,0:3] = -1*Mt[0:3,0:3]\n",
    "Mt"
   ]
  },
  {
   "cell_type": "code",
   "execution_count": 67,
   "id": "bf3b40b6-86b7-406b-ba93-e1907ff64a05",
   "metadata": {},
   "outputs": [
    {
     "name": "stdout",
     "output_type": "stream",
     "text": [
      "[-0.36211771 -0.43623751  2.95550313  1.        ]\n",
      "[-0.14882098 -0.49518836  3.31248489  1.        ]\n",
      "[ 0.19080778 -0.40413414  2.76065056  1.        ]\n",
      "[-0.35867118 -0.07241802  3.01676111  1.        ]\n",
      "[-0.15442114 -0.05671421  3.39810254  1.        ]\n",
      "[ 0.19254612 -0.07209958  2.75214154  1.        ]\n",
      "[-0.35214913  0.28926539  3.07055417  1.        ]\n",
      "[-0.14261739  0.38721021  3.41136117  1.        ]\n",
      "[0.1866608  0.24664911 2.81749755 1.        ]\n",
      "[-0.16698859 -0.96887036  3.32981116  1.        ]\n",
      "[[1. 0. 0. 0.]\n",
      " [0. 1. 0. 0.]\n",
      " [0. 0. 1. 0.]] \n",
      " [[ 0.93989047 -0.07020283  0.33418106 -0.92820749]\n",
      " [ 0.04284516  0.99514915  0.08855284 -0.26556332]\n",
      " [-0.33877657 -0.06891211  0.93833943  0.26058757]\n",
      " [ 0.          0.          0.          1.        ]]\n"
     ]
    }
   ],
   "source": [
    "p1 = np.zeros((3,len(x0)))\n",
    "p2 = np.zeros((3,len(x0)))\n",
    "#M1 = np.block(())\n",
    "R = H_c2_c1[0:3,0:3].T\n",
    "t = H_c2_c1[0:3,3]\n",
    "#print(R,t)\n",
    "t1 = -R.T @ t\n",
    "P1 = np.zeros((4, len(x0)))\n",
    "M2 = np.block([R, np.expand_dims(t1,-1)])\n",
    "M1 = np.array(np.block([np.eye(3), np.zeros((3,1))]))\n",
    "for i in range(len(x0)):\n",
    "    p1[:,i] = np.linalg.inv(K) @ np.array([x0[i],y0[i],1.], dtype = np.float).T\n",
    "    p2[:,i] = np.linalg.inv(K) @ np.array([x1[i], y1[i], 1.], dtype = np.float).T\n",
    "for i in range(len(x0)):\n",
    "    p1x = np.array([[0, -p1[2,i], p1[1,i]], [p1[2,i], 0, -p1[0,i]], [-p1[1,i], p1[0,i], 0]])\n",
    "    p2x = np.array([[0, -p2[2,i], p2[1,i]], [p2[2,i], 0, -p2[0,i]], [-p2[1,i], p2[0,i], 0]])\n",
    "    A = np.block([[p1x@M1], [p2x@M2]])\n",
    "    U, s, V = np.linalg.svd(A, full_matrices=True)\n",
    "    P = V.T[:,V.shape[0]-1]\n",
    "    #print(A)\n",
    "    P1[:,i] = P/P[3] \n",
    "    print(P1[:,i])\n",
    "print(M1, '\\n',  np.linalg.inv(H_c2_c1))"
   ]
  },
  {
   "cell_type": "code",
   "execution_count": 79,
   "id": "f0189c5e-4c23-4fa6-a03b-18f0d788bcc5",
   "metadata": {},
   "outputs": [
    {
     "data": {
      "image/png": "[encoded data removed]",
      "text/plain": [
       "<Figure size 720x720 with 1 Axes>"
      ]
     },
     "metadata": {
      "needs_background": "light"
     },
     "output_type": "display_data"
    }
   ],
   "source": [
    "from matplotlib import pyplot as plt\n",
    "plt.rcParams[\"figure.figsize\"] = [10, 10]\n",
    "plt.rcParams[\"figure.autolayout\"] = True\n",
    "fig = plt.figure()\n",
    "ax = fig.add_subplot(111, projection='3d')\n",
    "ax.scatter(P1[0,:], P1[2,:], P1[1,:], c=P1[0,:], alpha=1)\n",
    "x = ax.set_xlabel('X')\n",
    "y = ax.set_ylabel('Z')\n",
    "z = ax.set_zlabel('Y')\n",
    "plt.show()"
   ]
  },
  {
   "cell_type": "code",
   "execution_count": 54,
   "id": "98039647-a96b-416b-bb83-3d3914c5efb4",
   "metadata": {},
   "outputs": [
    {
     "data": {
      "text/plain": [
       "(4, 10)"
      ]
     },
     "execution_count": 54,
     "metadata": {},
     "output_type": "execute_result"
    }
   ],
   "source": [
    "P1.shape"
   ]
  },
  {
   "cell_type": "code",
   "execution_count": null,
   "id": "aac115d1-ce78-4093-8dd6-44229ebd9377",
   "metadata": {},
   "outputs": [],
   "source": []
  }
 ],
 "metadata": {
  "kernelspec": {
   "display_name": "Python 3",
   "language": "python",
   "name": "python3"
  },
  "language_info": {
   "codemirror_mode": {
    "name": "ipython",
    "version": 3
   },
   "file_extension": ".py",
   "mimetype": "text/x-python",
   "name": "python",
   "nbconvert_exporter": "python",
   "pygments_lexer": "ipython3",
   "version": "3.8.10"
  }
 },
 "nbformat": 4,
 "nbformat_minor": 5
}
